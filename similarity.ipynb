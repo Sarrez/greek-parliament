{
 "cells": [
  {
   "cell_type": "code",
   "execution_count": 2,
   "metadata": {},
   "outputs": [],
   "source": [
    "import pandas as pd\n",
    "import pickle\n",
    "import pymongo"
   ]
  },
  {
   "attachments": {},
   "cell_type": "markdown",
   "metadata": {},
   "source": [
    "Δεδομένων όλων των ομιλιών, πρέπει να ανιχνεύσουμε ομοιότητες ανά ζεύγη μεταξύ των μελών του κοινοβουλίου. Συγκεκριμένα, πρέπει να βρούμε έναν τρόπο να εξαγάγουμε ένα διάνυσμα χαρακτηριστικών για κάθε μέλος και στη συνέχεια να εκτελέσουμε ομοιότητες ανά ζεύγη για να μπορέσουμε να ανιχνεύσουμε τα top-k ζεύγη με τον υψηλότερο βαθμό ομοιότητας (όπου k είναι μια παράμετρος)."
   ]
  },
  {
   "cell_type": "code",
   "execution_count": 3,
   "metadata": {},
   "outputs": [],
   "source": [
    "# CONNECT TO DATABASE\n",
    "mongo_client = pymongo.MongoClient(\"mongodb://localhost:27017/\")\n",
    "client = mongo_client[\"GreekParliamentProceedings\"]\n",
    "index = client[\"InvertedIndex\"]\n",
    "database = client[\"Database\"]"
   ]
  },
  {
   "cell_type": "code",
   "execution_count": 4,
   "metadata": {},
   "outputs": [],
   "source": [
    "# READ KEYWORDS BY MEMBER\n",
    "with open('results/member_keywords.pickle', 'rb') as handle:\n",
    "    keywords_by_member = pickle.load(handle)\n",
    "member_names = keywords_by_member.keys()\n",
    "keywords = [list(keywords_by_member[member].keys()) for member in member_names]"
   ]
  },
  {
   "attachments": {},
   "cell_type": "markdown",
   "metadata": {},
   "source": [
    "### Διάνυσμα χαρακτηριστικών για κάθε μέλος"
   ]
  },
  {
   "cell_type": "code",
   "execution_count": 5,
   "metadata": {},
   "outputs": [],
   "source": [
    "#CREATE A FEATURE VECTOR FOR EACH MEMBER\n",
    "member_names = keywords_by_member.keys()\n",
    "keywords = [list(keywords_by_member[member].keys()) for member in member_names]\n",
    "genders = []\n",
    "political_parties = []\n",
    "member_roles = []\n",
    "regions = []\n",
    "governments = []\n",
    "def get_attributes_by_member(members, collection):\n",
    "        \"\"\"Creates an attribute vector for each member in a list of members.\n",
    "        The attributes are gathered from a MongoDB collection.\n",
    "        Each member has the following attributes: \n",
    "            name, gender, political parties, roles, regions, governments, keywords\n",
    "\n",
    "        Parameters\n",
    "        ----------\n",
    "        members : list\n",
    "            The names of the members\n",
    "        \n",
    "        collection: pymongo.collection.Collection\n",
    "            A collection which includes information about the member attributes.\n",
    "            The collection documents must include the following fields:\n",
    "            'member_name', 'roles', 'member_gender', 'government', 'political_party', 'member_region'\n",
    "\n",
    "        \"\"\"\n",
    "        \n",
    "        genders = []\n",
    "        political_parties = []\n",
    "        member_roles = []\n",
    "        regions = []\n",
    "        governments = []\n",
    "        for member in members:\n",
    "                pipeline = [{'$match' : {'member_name':member}},\n",
    "                            {'$facet': {\n",
    "                                'groupByRoles':[{'$group':{'_id':'$roles'}}],\n",
    "                                'groupByGender':[{'$group':{'_id':'$member_gender'}}],\n",
    "                                'groupByGovernment':[{'$group':{'_id':'$government'}}],\n",
    "                                'groupByParty':[{'$group':{'_id':'$political_party'}}],\n",
    "                                'groupByRegion':[{'$group':{'_id':'$member_region'}}]\n",
    "                            }\n",
    "                                        }\n",
    "                        ]\n",
    "                r = list(collection.aggregate(pipeline))\n",
    "                genders.append(r[0]['groupByGender'][0]['_id'])\n",
    "                regions.append([r[0]['groupByRegion'][i]['_id'] for i in range(len(r[0]['groupByRegion']))])\n",
    "                member_roles.append([r[0]['groupByRoles'][i]['_id'] for i in range(len(r[0]['groupByRoles']))])\n",
    "                governments.append([r[0]['groupByGovernment'][i]['_id'] for i in range(len(r[0]['groupByGovernment']))])\n",
    "                political_parties.append([r[0]['groupByParty'][i]['_id'] for i in range(len(r[0]['groupByParty']))])\n",
    "                \n",
    "        return genders, regions, political_parties, member_roles, governments"
   ]
  },
  {
   "cell_type": "code",
   "execution_count": 6,
   "metadata": {},
   "outputs": [],
   "source": [
    "genders, regions, political_parties, member_roles, governments = get_attributes_by_member(member_names, database)"
   ]
  },
  {
   "cell_type": "code",
   "execution_count": 17,
   "metadata": {},
   "outputs": [],
   "source": [
    "\n",
    "member_names = list(member_names)\n",
    "feature_vectors = []\n",
    "for i in range(len(keywords)):\n",
    "    feature_vectors.append([])\n",
    "    feature_vectors[i].append(member_names[i].split()[0])\n",
    "    feature_vectors[i].append(genders[i])\n",
    "    feature_vectors[i].extend(regions[i][j] for j in range(len(regions[i])))\n",
    "    feature_vectors[i].extend(member_roles[i][j] for j in range(len(member_roles[i])))\n",
    "    feature_vectors[i].extend(governments[i][j] for j in range(len(governments[i])))\n",
    "    feature_vectors[i].extend(political_parties[i][j] for j in range(len(political_parties[i])))\n",
    "    feature_vectors[i].extend(keywords[i])"
   ]
  },
  {
   "cell_type": "code",
   "execution_count": 26,
   "metadata": {},
   "outputs": [],
   "source": [
    "#with open('feature_vectors.pickle', 'wb') as handle:\n",
    "#   pickle.dump(feature_vectors, handle, protocol=pickle.HIGHEST_PROTOCOL)"
   ]
  },
  {
   "cell_type": "code",
   "execution_count": 33,
   "metadata": {},
   "outputs": [
    {
     "name": "stdout",
     "output_type": "stream",
     "text": [
      "['αβραμακης', 'male', 'σερρων', \"['βουλευτης']\", \"['μητσοτακη κυριακου(08/07/2019-28/07/2020)']\", 'συνασπισμος ριζοσπαστικης αριστερας', 'συριζ', 'νομοσχεδ', 'αγροτ', 'διαταξ', 'αυξης', 'δικαιωμ']\n"
     ]
    }
   ],
   "source": [
    "import pickle\n",
    "with open('results/feature_vectors.pickle', 'rb') as handle:\n",
    "    feature_vectors = pickle.load(handle)\n",
    "print(feature_vectors[1])\n",
    "from top_k_pairs import Top_k_Pairs as topk\n",
    "top = topk()\n",
    "pairs = top.get_pairs(10, feature_vectors, threshold=0.5)"
   ]
  },
  {
   "cell_type": "code",
   "execution_count": 97,
   "metadata": {},
   "outputs": [
    {
     "name": "stdout",
     "output_type": "stream",
     "text": [
      "[0.5128205128205128, 0.5135135135135135, 0.5185185185185185, 0.52, 0.5217391304347826, 0.525, 0.5263157894736842, 0.5294117647058824, 0.5333333333333333, 0.5357142857142857, 0.5384615384615384, 0.5454545454545454, 0.55, 0.5555555555555556, 0.56, 0.5675675675675675, 0.5789473684210527, 0.5833333333333334, 0.5909090909090909, 0.5945945945945946, 0.6, 0.6060606060606061, 0.6363636363636364, 0.6666666666666666, 0.7142857142857143]\n",
      "{0.714: [[238, 1487]], 0.667: [[1264, 495]], 0.636: [[108, 406]], 0.606: [[1216, 95]], 0.6: [[624, 715]], 0.595: [[985, 108]], 0.591: [[1026, 229]], 0.583: [[33, 1479], [826, 495]], 0.579: [[612, 1253]], 0.568: [[185, 1010]]}\n"
     ]
    }
   ],
   "source": [
    "keys = sorted(list(pairs))\n",
    "print(keys)\n",
    "k = 10\n",
    "i = len(keys)-1\n",
    "topk = {}\n",
    "while(i>0 and len(topk)!=k):\n",
    "    limit = k\n",
    "    values = [ pairs[keys[i]][j] for j in range(len(pairs[keys[i]])) ]\n",
    "    if(len(values)>=k):\n",
    "        topk[round(keys[i],3)]=values[:limit]\n",
    "    else:\n",
    "        topk[round(keys[i],3)]=values\n",
    "        limit = limit - len(values)\n",
    "        i -= 1\n",
    "        \n",
    "print(topk)"
   ]
  },
  {
   "cell_type": "code",
   "execution_count": 105,
   "metadata": {},
   "outputs": [
    {
     "name": "stdout",
     "output_type": "stream",
     "text": [
      "Members γεωργιαδης κωνσταντινου αθανασιος and χατζηιωαννιδης λαζαρου βασιλειος have a jaccard similarity of 0.714\n",
      "{\"['βουλευτης']\", 'πανελληνιο σοσιαλιστικο κινημα', 'male', 'ημαθιας', \"['σημιτη κωνσταντινου(25/09/1996-13/04/2000)']\"}\n",
      "\n",
      "\n",
      "Members σπανακης νικολαου βασιλειος-πετρος and καλλιανος δημητριου ιωαννης have a jaccard similarity of 0.667\n",
      "{\"['βουλευτης']\", 'συριζ', 'νομοσχεδ', 'νεα δημοκρατια', \"β3' νοτιου τομεα αθηνων\", \"['μητσοτακη κυριακου(08/07/2019-28/07/2020)']\", 'νε δημοκρατ ', 'male'}\n",
      "\n",
      "\n",
      "Members αργυρης ιωαννη ευαγγελος and ζηση αθανασιου ροδουλα have a jaccard similarity of 0.636\n",
      "{'λαϊκου', \"['βουλευτης']\", 'κομμουνιστ', \"['καραμανλη α. κωνσταντινου(19/09/2007-07/10/2009)']\", \"['παπανδρεου α. γεωργιου(06/10/2009-11/11/2011)']\", \"['παπαδημου λουκα δ.(11/11/2011-17/05/2012)']\", \"['σημιτη κωνσταντινου(13/04/2000-10/03/2004)']\", 'πανελληνιο σοσιαλιστικο κινημα', 'νε δημοκρατ ', \"['σημιτη κωνσταντινου(25/09/1996-13/04/2000)']\", \"['παπανδρεου ανδρεα(13/10/1993-22/01/1996)']\", 'δεκτ', 'βουλευτ', 'δημοκρατ', 'πλειοψηφ', 'κοινοβουλευτ εκπροσωπ ', 'λεπτ', \"['καραμανλη α. κωνσταντινου(10/03/2004-19/09/2007)']\", 'αρθρ', 'συζητης', 'πασοκ'}\n",
      "\n",
      "\n",
      "Members σγουριδης σγουρη παναγιωτης and αποστολιδης θωμα λουκας have a jaccard similarity of 0.606\n",
      "{'γενικ αριθμ ', \"['βουλευτης']\", 'παρακαλ', 'σωμ', 'male', \"['μητσοτακη κωνσταντινου(11/04/1990-13/10/1993)']\", \"['σημιτη κωνσταντινου(13/04/2000-10/03/2004)']\", 'πανελληνιο σοσιαλιστικο κινημα', \"['σημιτη κωνσταντινου(25/09/1996-13/04/2000)']\", \"['παπανδρεου ανδρεα(13/10/1993-22/01/1996)']\", 'δεκτ', \"['ζολωτα ξενοφωντα(23/11/1989-11/04/1990)']\", 'ειδικ', 'πλειοψηφ', 'λεπτ', 'τροπολογ', 'συνεδριας', 'ερωτης', 'αρθρ', 'συζητης'}\n",
      "\n",
      "\n",
      "Members κολλιας ταξιαρχου κωνσταντινος and κωνσταντινιδης γεωργιου ευσταθιος have a jaccard similarity of 0.6\n",
      "{\"['παπανδρεου α. γεωργιου(06/10/2009-11/11/2011)']\", 'μετρ', \"['σαμαρα κ. αντωνιου(21/06/2012-26/01/2015)']\", \"['παπαδημου λουκα δ.(11/11/2011-17/05/2012)']\", \"['βουλευτης']\", 'ευρ', 'νομοσχεδ', 'νεα δημοκρατια', 'αγροτ', \"['καραμανλη α. κωνσταντινου(19/09/2007-07/10/2009)']\", 'male', 'πασοκ'}\n",
      "\n",
      "\n",
      "Members νιωτης δημητριου γρηγοριος and αργυρης ιωαννη ευαγγελος have a jaccard similarity of 0.595\n",
      "{\"['βουλευτης']\", 'νομοσχεδ', 'κομμουνιστ', \"['καραμανλη α. κωνσταντινου(19/09/2007-07/10/2009)']\", 'male', \"['παπανδρεου α. γεωργιου(06/10/2009-11/11/2011)']\", \"['παπαδημου λουκα δ.(11/11/2011-17/05/2012)']\", \"['σημιτη κωνσταντινου(13/04/2000-10/03/2004)']\", 'πανελληνιο σοσιαλιστικο κινημα', 'νε δημοκρατ ', \"['σημιτη κωνσταντινου(25/09/1996-13/04/2000)']\", \"['παπανδρεου ανδρεα(13/10/1993-22/01/1996)']\", 'δεκτ', 'βουλευτ', 'δημοκρατ', 'πλειοψηφ', 'κοινοβουλευτ εκπροσωπ ', 'λεπτ', \"['καραμανλη α. κωνσταντινου(10/03/2004-19/09/2007)']\", 'αρθρ', 'συζητης', 'πασοκ'}\n",
      "\n",
      "\n",
      "Members παναγιωταρος κωνσταντινου ηλιας and γερμενης σπυριδωνος γεωργιος have a jaccard similarity of 0.591\n",
      "{'λαικος συνδεσμος - χρυση αυγη', \"['σαμαρα κ. αντωνιου(21/06/2012-26/01/2015)']\", 'ευρ', \"['τσιπρα π. αλεξιου(21/09/2015-08/07/2019)']\", \"['βουλευτης']\", 'νομοσχεδ', \"β' αθηνων\", \"['τσιπρα π. αλεξιου(26/01/2015-27/08/2015)']\", 'αρθρ', 'male', 'στιγμ', 'κρατ', 'πασοκ'}\n",
      "\n",
      "\n",
      "Members ακτυπης δημητριου διονυσιος and χατζηβασιλειου γεωργιου αναστασιος (τασος) have a jaccard similarity of 0.583\n",
      "{\"['βουλευτης']\", 'συριζ', 'νομοσχεδ', 'νεα δημοκρατια', 'πλαισι', \"['μητσοτακη κυριακου(08/07/2019-28/07/2020)']\", 'male'}\n",
      "\n",
      "\n",
      "Members μαραβεγιας αριστοτελη κωνσταντινος and καλλιανος δημητριου ιωαννης have a jaccard similarity of 0.583\n",
      "{\"['βουλευτης']\", 'συριζ', 'νομοσχεδ', 'νεα δημοκρατια', \"['μητσοτακη κυριακου(08/07/2019-28/07/2020)']\", 'νε δημοκρατ ', 'male'}\n",
      "\n",
      "\n",
      "Members κιρκος κωνσταντινου γεωργιος and σμυρλης-λιακατας ανδρεα χρηστος have a jaccard similarity of 0.579\n",
      "{\"['παπανδρεου ανδρεα(13/10/1993-22/01/1996)']\", \"['σημιτη κωνσταντινου(13/04/2000-10/03/2004)']\", \"['βουλευτης']\", 'νομοσχεδ', 'τροπολογ', 'πανελληνιο σοσιαλιστικο κινημα', 'υγει', 'νε δημοκρατ ', 'αρθρ', 'male', \"['σημιτη κωνσταντινου(25/09/1996-13/04/2000)']\"}\n",
      "\n",
      "\n",
      "Members βλαχος θεοδωρου γεωργιος and οικονομου αθανασιου βασιλειος have a jaccard similarity of 0.568\n",
      "{\"['βουλευτης']\", 'νομοσχεδ', 'ανεξαρτητοι (εκτος κομματος)', \"['καραμανλη α. κωνσταντινου(19/09/2007-07/10/2009)']\", 'male', \"['παπανδρεου α. γεωργιου(06/10/2009-11/11/2011)']\", \"['σαμαρα κ. αντωνιου(21/06/2012-26/01/2015)']\", \"['παπαδημου λουκα δ.(11/11/2011-17/05/2012)']\", \"['τσιπρα π. αλεξιου(21/09/2015-08/07/2019)']\", \"['σημιτη κωνσταντινου(13/04/2000-10/03/2004)']\", \"α' ανατολικης αττικης\", 'στιγμ', 'αττικης(υπολοιπο)', 'νεα δημοκρατια', \"['τσιπρα π. αλεξιου(26/01/2015-27/08/2015)']\", \"['μητσοτακη κυριακου(08/07/2019-28/07/2020)']\", 'δικ', 'αττικης', \"['καραμανλη α. κωνσταντινου(10/03/2004-19/09/2007)']\", 'αρθρ', 'πασοκ'}\n",
      "\n",
      "\n"
     ]
    }
   ],
   "source": [
    "for key in topk.keys():\n",
    "    for pair in topk[key]:\n",
    "        v1 = set(feature_vectors[pair[0]])\n",
    "        v2 = set(feature_vectors[pair[1]])\n",
    "        member_names=list(member_names)\n",
    "        print(f\"Members {member_names[pair[0]]} and {member_names[pair[1]]} have a jaccard similarity of {key}\")\n",
    "        print(v1.intersection(v2))\n",
    "        print(\"\\n\")"
   ]
  }
 ],
 "metadata": {
  "kernelspec": {
   "display_name": "base",
   "language": "python",
   "name": "python3"
  },
  "language_info": {
   "codemirror_mode": {
    "name": "ipython",
    "version": 3
   },
   "file_extension": ".py",
   "mimetype": "text/x-python",
   "name": "python",
   "nbconvert_exporter": "python",
   "pygments_lexer": "ipython3",
   "version": "3.8.16"
  },
  "orig_nbformat": 4,
  "vscode": {
   "interpreter": {
    "hash": "ad2bdc8ecc057115af97d19610ffacc2b4e99fae6737bb82f5d7fb13d2f2c186"
   }
  }
 },
 "nbformat": 4,
 "nbformat_minor": 2
}
