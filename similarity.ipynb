{
 "cells": [
  {
   "cell_type": "code",
   "execution_count": 1,
   "metadata": {},
   "outputs": [],
   "source": [
    "import numpy as np\n",
    "import pandas as pd\n",
    "import re\n",
    "import time\n",
    "from datasketch import MinHash, MinHashLSHForest\n",
    "import pickle\n",
    "import pymongo"
   ]
  },
  {
   "attachments": {},
   "cell_type": "markdown",
   "metadata": {},
   "source": [
    "Δεδομένων όλων των ομιλιών, πρέπει να ανιχνεύσουμε ομοιότητες ανά ζεύγη μεταξύ των μελών του κοινοβουλίου. Συγκεκριμένα, πρέπει να βρούμε έναν τρόπο να εξαγάγουμε ένα διάνυσμα χαρακτηριστικών για κάθε μέλος και στη συνέχεια να εκτελέσουμε ομοιότητες ανά ζεύγη για να μπορέσουμε να ανιχνεύσουμε τα top-k ζεύγη με τον υψηλότερο βαθμό ομοιότητας (όπου k είναι μια παράμετρος)."
   ]
  },
  {
   "cell_type": "code",
   "execution_count": 2,
   "metadata": {},
   "outputs": [
    {
     "name": "stdout",
     "output_type": "stream",
     "text": [
      "<class 'pymongo.collection.Collection'>\n"
     ]
    }
   ],
   "source": [
    "mongo_client = pymongo.MongoClient(\"mongodb://localhost:27017/\")\n",
    "#mongo_client.drop_database(\"GreekParliamentProceedings\")\n",
    "client = mongo_client[\"GreekParliamentProceedings\"]\n",
    "index = client[\"InvertedIndex\"]\n",
    "database = client[\"Database\"]\n",
    "print(type(database))"
   ]
  },
  {
   "cell_type": "code",
   "execution_count": 3,
   "metadata": {},
   "outputs": [],
   "source": [
    "with open('results/member_keywords.pickle', 'rb') as handle:\n",
    "    keywords_by_member = pickle.load(handle)\n",
    "#print(list(keywords_by_member['τσιπρας παυλου αλεξιος'].keys()))\n",
    "member_names = keywords_by_member.keys()\n",
    "keywords = [list(keywords_by_member[member].keys()) for member in member_names]"
   ]
  },
  {
   "attachments": {},
   "cell_type": "markdown",
   "metadata": {},
   "source": [
    "### Διάνυσμα χαρακτηριστικών για κάθε μέλος"
   ]
  },
  {
   "cell_type": "code",
   "execution_count": null,
   "metadata": {},
   "outputs": [],
   "source": [
    "#CREATE A VECTOR FOR EACH MEMBER IN A PANDAS DATAFRAME\n",
    "member_names = keywords_by_member.keys()\n",
    "keywords = [list(keywords_by_member[member].keys()) for member in member_names]\n",
    "genders = []\n",
    "political_parties = []\n",
    "member_roles = []\n",
    "regions = []\n",
    "governments = []\n",
    "def get_attributes_by_member(members, collection):\n",
    "        for member in members:\n",
    "                print(member)\n",
    "                pipeline = [{'$match' : {'member_name':member}},\n",
    "                            {'$facet': {\n",
    "                                'groupByRoles':[{'$group':{'_id':'$roles'}}],\n",
    "                                'groupByGender':[{'$group':{'_id':'$member_gender'}}],\n",
    "                                'groupByGovernment':[{'$group':{'_id':'$government'}}],\n",
    "                                'groupByParty':[{'$group':{'_id':'$political_party'}}],\n",
    "                                'groupByRegion':[{'$group':{'_id':'$member_region'}}]\n",
    "                            }\n",
    "                                        }\n",
    "                        ]\n",
    "                r = list(collection.aggregate(pipeline))\n",
    "                genders.append(r[0]['groupByGender'][0]['_id'])\n",
    "                regions.append([r[0]['groupByRegion'][i]['_id'] for i in range(len(r[0]['groupByRegion']))])\n",
    "                member_roles.append([r[0]['groupByRoles'][i]['_id'] for i in range(len(r[0]['groupByRoles']))])\n",
    "                governments.append([r[0]['groupByGovernment'][i]['_id'] for i in range(len(r[0]['groupByGovernment']))])\n",
    "                political_parties.append([r[0]['groupByParty'][i]['_id'] for i in range(len(r[0]['groupByParty']))])\n",
    "                \n",
    "        return genders, regions, political_parties, member_roles, governments"
   ]
  },
  {
   "cell_type": "code",
   "execution_count": null,
   "metadata": {},
   "outputs": [],
   "source": [
    "genders, regions, political_parties, member_roles, governments = get_attributes_by_member(member_names, database)"
   ]
  },
  {
   "cell_type": "code",
   "execution_count": null,
   "metadata": {},
   "outputs": [],
   "source": [
    "print(len(member_names))\n",
    "print(len(keywords))\n",
    "print(len(genders))\n",
    "print(len(regions))\n",
    "print(len(member_roles))\n",
    "print(len(governments))\n",
    "print(len(political_parties))"
   ]
  },
  {
   "cell_type": "code",
   "execution_count": null,
   "metadata": {},
   "outputs": [],
   "source": [
    "#CREATE PANDAS DATAFRAME\n",
    "data = {'Name': member_names,\n",
    "        'Gender': genders,\n",
    "        'Region(s)':regions,\n",
    "        'Role(s)':member_roles,\n",
    "        'Government(s)':governments,\n",
    "        'Political party':political_parties,\n",
    "        'Keywords':keywords}\n",
    "df = pd.DataFrame(data)\n",
    "df.head(4)"
   ]
  },
  {
   "attachments": {},
   "cell_type": "markdown",
   "metadata": {},
   "source": [
    "### Ομοιότητες ανά ζεύγη: MinHash + LSH"
   ]
  },
  {
   "cell_type": "code",
   "execution_count": 4,
   "metadata": {},
   "outputs": [
    {
     "name": "stdout",
     "output_type": "stream",
     "text": [
      "34024\n"
     ]
    }
   ],
   "source": [
    "from lsh import LSH\n",
    "\n",
    "LSH = LSH(keywords)\n",
    "candidates_pairs = LSH.MinHashLSH(num_hashes=256, num_bands=32, num_columns=4)\n",
    "print(len(candidates_pairs))"
   ]
  },
  {
   "cell_type": "code",
   "execution_count": 5,
   "metadata": {},
   "outputs": [],
   "source": [
    "accepted = {}\n",
    "for pair in candidates_pairs:\n",
    "    sim = LSH.jaccard_similarity(keywords[pair[0]], keywords[pair[1]])\n",
    "    if(sim>0.7):\n",
    "        if(sim not in accepted.keys()):\n",
    "            accepted[sim] = [pair]\n",
    "        else:\n",
    "            accepted[sim].append(pair)"
   ]
  },
  {
   "cell_type": "code",
   "execution_count": 7,
   "metadata": {},
   "outputs": [
    {
     "name": "stdout",
     "output_type": "stream",
     "text": [
      "dict_keys([0.7142857142857143, 0.9230769230769231, 0.8571428571428571, 0.7857142857142857, 0.7272727272727273, 1.0, 0.75, 0.7333333333333333, 0.8, 0.7692307692307693])\n",
      "[[817, 437]]\n"
     ]
    }
   ],
   "source": [
    "print(accepted.keys())\n",
    "print(accepted[0.8])"
   ]
  },
  {
   "cell_type": "code",
   "execution_count": 8,
   "metadata": {},
   "outputs": [
    {
     "name": "stdout",
     "output_type": "stream",
     "text": [
      "['νομοσχεδ', 'αρθρ', 'νε δημοκρατ ', 'ευρ']\n",
      "['πασοκ', 'ευρ', 'νε δημοκρατ ', 'αρθρ', 'νομοσχεδ']\n"
     ]
    }
   ],
   "source": [
    "print(keywords[817])\n",
    "print(keywords[437])"
   ]
  }
 ],
 "metadata": {
  "kernelspec": {
   "display_name": "Python 3",
   "language": "python",
   "name": "python3"
  },
  "language_info": {
   "codemirror_mode": {
    "name": "ipython",
    "version": 3
   },
   "file_extension": ".py",
   "mimetype": "text/x-python",
   "name": "python",
   "nbconvert_exporter": "python",
   "pygments_lexer": "ipython3",
   "version": "3.10.7"
  },
  "orig_nbformat": 4,
  "vscode": {
   "interpreter": {
    "hash": "369f2c481f4da34e4445cda3fffd2e751bd1c4d706f27375911949ba6bb62e1c"
   }
  }
 },
 "nbformat": 4,
 "nbformat_minor": 2
}
