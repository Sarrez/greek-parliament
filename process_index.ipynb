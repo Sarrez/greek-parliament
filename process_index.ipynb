{
 "cells": [
  {
   "cell_type": "code",
   "execution_count": 63,
   "metadata": {},
   "outputs": [],
   "source": [
    "import pymongo"
   ]
  },
  {
   "attachments": {},
   "cell_type": "markdown",
   "metadata": {},
   "source": [
    "### Find candidate domain-specific stopwords and clean index"
   ]
  },
  {
   "cell_type": "code",
   "execution_count": 2,
   "metadata": {},
   "outputs": [],
   "source": [
    "# CONNECT TO DB\n",
    "import pymongo\n",
    "mongo_client = pymongo.MongoClient(\"mongodb://localhost:27017/\")\n",
    "client = mongo_client[\"GreekParliamentProceedings\"]\n",
    "index = client[\"InvertedIndex\"]\n",
    "database = client[\"Database\"]"
   ]
  },
  {
   "cell_type": "code",
   "execution_count": 20,
   "metadata": {},
   "outputs": [],
   "source": [
    "# FIND NUMBER OF TERMS FOR EACH NUMDOC \n",
    "numdocs = list(index.find({ }, { \"_id\": 0, \"list.numdoc\": 1 }))\n",
    "x = [numdocs[i]['list']['numdoc'] for i in range(len(numdocs))]\n",
    "numdocs = {}\n",
    "for numdoc in set(x):\n",
    "    numdocs[numdoc] = x.count(numdoc)"
   ]
  },
  {
   "cell_type": "code",
   "execution_count": 21,
   "metadata": {},
   "outputs": [
    {
     "name": "stdout",
     "output_type": "stream",
     "text": [
      "Υπαρχουν 1 documents με numdoc==1267\n"
     ]
    }
   ],
   "source": [
    "print(f'Υπαρχουν {numdocs[1267]} documents με numdoc==1267')"
   ]
  },
  {
   "cell_type": "code",
   "execution_count": 22,
   "metadata": {},
   "outputs": [
    {
     "data": {
      "text/plain": [
       "(array([3052.,  794.,  315.,  180.,  110.,   86.,   63.,   43.,   38.,\n",
       "          22.,   20.,   14.,   14.,   12.,   11.,    8.,    7.,    4.,\n",
       "           8.,    5.,    4.,    5.,    5.]),\n",
       " array([     0.,   5000.,  10000.,  15000.,  20000.,  25000.,  30000.,\n",
       "         35000.,  40000.,  45000.,  50000.,  55000.,  60000.,  65000.,\n",
       "         70000.,  75000.,  80000.,  85000.,  90000.,  95000., 100000.,\n",
       "        105000., 110000., 115000.]),\n",
       " <BarContainer object of 23 artists>)"
      ]
     },
     "execution_count": 22,
     "metadata": {},
     "output_type": "execute_result"
    },
    {
     "data": {
      "image/png": "[encoded data removed]",
      "text/plain": [
       "<Figure size 640x480 with 1 Axes>"
      ]
     },
     "metadata": {},
     "output_type": "display_data"
    }
   ],
   "source": [
    "import matplotlib.pyplot as plt\n",
    "fig, axs = plt.subplots()\n",
    "axs.hist(numdocs, bins=[i for i in range(0,120000,5000)])"
   ]
  },
  {
   "cell_type": "code",
   "execution_count": null,
   "metadata": {},
   "outputs": [],
   "source": [
    "# CONSIDER TERMS WITH NUMDOC>100.000 AS DOMAIN SPECIFIC STOPWORDS AND SAVE THEM IN TXT FILE\n",
    "threshold = list(index.find({\"list.numdoc\":{\"$gt\":100000}}, { \"_id\": 1, \"list.numdoc\": 1 }))\n",
    "print([threshold[i]['_id'] for i in range(len(threshold))])\n",
    "with open('domain-specific-stopwords.txt', 'w', encoding='utf8') as f:\n",
    "    for i in range(len(threshold)):\n",
    "        f.write(threshold[i]['_id'])\n",
    "        f.write('\\n')"
   ]
  },
  {
   "cell_type": "code",
   "execution_count": 26,
   "metadata": {},
   "outputs": [
    {
     "name": "stdout",
     "output_type": "stream",
     "text": [
      "['τσαλδαρης)', 'μισσαηλιδ', 'παραβολον', 'επικυρουτα', 'επιδειχθεντ', 'εγλιτως', 'επλαστογραφ', '0112', 'αλφοnσινα', 'αλφοσιν', 'εισπλευς', 'αυταδρον', 'alfonsinα', 'καθαρσολογ', 'χασομ', 'κρινομ', 'περασομ', '0116μα', '68/88', '2891/77', 'εκακ)', '1697/79', '2891/77)', 'lloyd', 'φλαμιγκ', 'ιtco', 'πραγματοποιηθηκεσελιδ', '0117', 'επιστραφεν', 'κατεβλευς']\n",
      "316424\n"
     ]
    }
   ],
   "source": [
    "# SAMPLE TERMS WITH NUMDOC<3\n",
    "threshold = list(index.find({\"list.numdoc\":{\"$lt\":3}}, { \"_id\": 1, \"list.numdoc\": 1 }))\n",
    "print([threshold[i]['_id'] for i in range(len(threshold))][200:230])\n",
    "# TOTAL NUMBER OF TERMS WITH NUMDOC<3\n",
    "print(len(threshold))"
   ]
  },
  {
   "cell_type": "code",
   "execution_count": 7,
   "metadata": {},
   "outputs": [
    {
     "name": "stdout",
     "output_type": "stream",
     "text": [
      "[{'_id': '000/8/245258/σ'}, {'_id': '000/οικ'}, {'_id': '0000%απο'}, {'_id': '00010ο'}, {'_id': '00012%απο'}, {'_id': '00016%απο'}, {'_id': '0002%απο'}, {'_id': '00020%απο'}, {'_id': '00024%απο'}, {'_id': '0002γραφημα'}, {'_id': '0002θεωρουμε'}, {'_id': '0003%απο'}, {'_id': '0003επιλεξει'}, {'_id': '0004γων'}, {'_id': '0006%απο'}, {'_id': '0006που'}, {'_id': '0008%απο'}, {'_id': '0008μοκρατια'}, {'_id': '0008ο'}, {'_id': '0009ορισμενες'}, {'_id': '000αλλοτε'}, {'_id': '000αυτα'}, {'_id': '000β'}, {'_id': '000γ'}, {'_id': '000για'}, {'_id': '000δ'}, {'_id': '000διδακτικο'}, {'_id': '000δραχμες'}, {'_id': '000δραχμων'}, {'_id': '000δρχ'}, {'_id': '000ε'}, {'_id': '000επι'}, {'_id': '000ετος'}, {'_id': '000ευρω'}, {'_id': '000η'}, {'_id': '000και'}, {'_id': '000καταστηματαρχες'}, {'_id': '000μοναδων'}, {'_id': '000νται'}, {'_id': '000ο'}, {'_id': '000πανω'}, {'_id': '000προηγουμενησμετ'}, {'_id': '000σελιδα'}, {'_id': '000στρ'}, {'_id': '000στρεμματα'}, {'_id': '000στρεμματων'}, {'_id': '000συνολο'}, {'_id': '000τ'}, {'_id': '000τα'}, {'_id': '000υπερβαλλον'}, {'_id': '000χιλ/νων'}, {'_id': '000ως'}, {'_id': '000–γιατι'}, {'_id': '000–και'}, {'_id': '000–συν'}, {'_id': '000–τοσα'}, {'_id': '0010λογη'}, {'_id': '0010μερη'}, {'_id': '0010νομους'}, {'_id': '0011δυο'}, {'_id': '0012/πολ'}, {'_id': '0012αναφερθω'}, {'_id': '0012βητηση'}, {'_id': '0013απο'}, {'_id': '0014περιοριζετε'}, {'_id': '0016των'}, {'_id': '0017αρθρο'}, {'_id': '0018ξεφορτωνονται'}, {'_id': '0019τονους'}, {'_id': '0021γιατι'}, {'_id': '0021μπορουμε'}, {'_id': '0021χως'}, {'_id': '0022/σχετ'}, {'_id': '0022μικρο'}, {'_id': '0022προϋπολογισμος'}, {'_id': '0023εκπροσωπει'}, {'_id': '0023ρηματικο'}, {'_id': '0023ψεων'}, {'_id': '0025το'}, {'_id': '0025χρονικα'}, {'_id': '0026υπαρχουν'}, {'_id': '0027δου'}, {'_id': '0028δικαιολογημενων'}, {'_id': '0028δωσε'}, {'_id': '0029διατυπωση'}, {'_id': '003/2007]σημειωση'}, {'_id': '0030θεση'}, {'_id': '0030τειας'}, {'_id': '0032εγινε'}, {'_id': '0032τηθει'}, {'_id': '0033την'}, {'_id': '0034γες'}, {'_id': '0034και'}, {'_id': '0034πρωινες'}, {'_id': '0035για'}, {'_id': '0035μησεις'}, {'_id': '0036στα'}, {'_id': '0036συνδεομενο'}, {'_id': '0036ταν'}, {'_id': '0037εκμεταλλευονται'}]\n"
     ]
    }
   ],
   "source": [
    "# FIND TERMS IN THE INDEX WITH THE SPECIFIED PATTERN IN ORDER TO REMOVE THEM\n",
    "import re\n",
    "to_remove = list(index.find({\"_id\":{\"$regex\":\"^[0-9][0-9][0-9].*[α-ω]$\"}},{ \"_id\": 1, \"list\": 0}))\n",
    "print(to_remove[:100])"
   ]
  },
  {
   "cell_type": "code",
   "execution_count": 4,
   "metadata": {},
   "outputs": [
    {
     "name": "stdout",
     "output_type": "stream",
     "text": [
      "<class 'str'>\n"
     ]
    }
   ],
   "source": [
    "# FIND SPEECH IDs THAT ARE NOT PART OF THE INDEX\n",
    "# MEANS THAT THOSE SPEECHES HAVE LESS THAN 20 TERMS AFTER PREPROCESSING\n",
    "\n",
    "# GET ALL POSTING LISTS FROM INDEX\n",
    "res = list(index.find({ }, { \"_id\": 0, \"list.postinglist\": 1 }))\n",
    "\n",
    "# FIND DISTINCT DOCUMENT IDs \n",
    "total = set()\n",
    "for i in range(len(res)):\n",
    "    total_documents = set((res[i]['list']['postinglist'].keys()))\n",
    "    total.update(total_documents)\n",
    "\n",
    "# SAVE INDEXES AS INTEGERS IN A PICKLE FILE FOR LATER USE\n",
    "total = list(total)\n",
    "for i in range(len(total)):\n",
    "    total[i] = int(total[i])\n",
    "import pickle\n",
    "with open('speech_indexes.pickle', 'rb') as handle:\n",
    "    speech_indexes = pickle.load(handle)\n",
    "print(len(speech_indexes))"
   ]
  }
 ],
 "metadata": {
  "kernelspec": {
   "display_name": "base",
   "language": "python",
   "name": "python3"
  },
  "language_info": {
   "codemirror_mode": {
    "name": "ipython",
    "version": 3
   },
   "file_extension": ".py",
   "mimetype": "text/x-python",
   "name": "python",
   "nbconvert_exporter": "python",
   "pygments_lexer": "ipython3",
   "version": "3.8.16"
  },
  "orig_nbformat": 4,
  "vscode": {
   "interpreter": {
    "hash": "ad2bdc8ecc057115af97d19610ffacc2b4e99fae6737bb82f5d7fb13d2f2c186"
   }
  }
 },
 "nbformat": 4,
 "nbformat_minor": 2
}
