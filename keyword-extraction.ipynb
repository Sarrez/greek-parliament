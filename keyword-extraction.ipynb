{
 "cells": [
  {
   "cell_type": "code",
   "execution_count": 2,
   "metadata": {},
   "outputs": [],
   "source": [
    "import nltk\n",
    "from nltk.corpus import stopwords\n",
    "from nltk.tokenize import sent_tokenize, word_tokenize\n",
    "import csv\n",
    "import pandas as pd\n",
    "import json\n",
    "import time\n",
    "from nltk.corpus import stopwords\n",
    "from nltk.tokenize import sent_tokenize, word_tokenize\n",
    "import string \n",
    "import unicodedata as ud\n",
    "from greek_stemmer import GreekStemmer\n",
    "import pymongo\n",
    "import numpy as np\n",
    "import re\n",
    "import networkx as nx\n",
    "import indexer as ind\n"
   ]
  },
  {
   "attachments": {},
   "cell_type": "markdown",
   "metadata": {},
   "source": [
    "### Find candidate domain-specific stopwords and clean index"
   ]
  },
  {
   "cell_type": "code",
   "execution_count": 3,
   "metadata": {},
   "outputs": [],
   "source": [
    "mongo_client = pymongo.MongoClient(\"mongodb://localhost:27017/\")\n",
    "#mongo_client.drop_database(\"GreekParliamentProceedings\")\n",
    "client = mongo_client[\"GreekParliamentProceedings\"]\n",
    "index = client[\"InvertedIndex\"]\n",
    "database = client[\"Database\"]"
   ]
  },
  {
   "cell_type": "code",
   "execution_count": 3,
   "metadata": {},
   "outputs": [],
   "source": [
    "numdocs = list(index.find({ }, { \"_id\": 0, \"list.numdoc\": 1 }))\n",
    "x = [numdocs[i]['list']['numdoc'] for i in range(len(numdocs))]\n",
    "numdocs = {}\n",
    "for numdoc in set(x):\n",
    "    numdocs[numdoc] = x.count(numdoc)"
   ]
  },
  {
   "cell_type": "code",
   "execution_count": 4,
   "metadata": {},
   "outputs": [
    {
     "name": "stdout",
     "output_type": "stream",
     "text": [
      "Υπαρχουν 1 documents με numdoc==1267\n"
     ]
    }
   ],
   "source": [
    "print(f'Υπαρχουν {numdocs[1267]} documents με numdoc==1267')"
   ]
  },
  {
   "cell_type": "code",
   "execution_count": 5,
   "metadata": {},
   "outputs": [
    {
     "data": {
      "text/plain": [
       "(array([3052.,  794.,  315.,  180.,  110.,   86.,   63.,   43.,   38.,\n",
       "          22.,   20.,   14.,   14.,   12.,   11.,    8.,    7.,    4.,\n",
       "           8.,    5.,    4.,    5.,    5.]),\n",
       " array([     0.,   5000.,  10000.,  15000.,  20000.,  25000.,  30000.,\n",
       "         35000.,  40000.,  45000.,  50000.,  55000.,  60000.,  65000.,\n",
       "         70000.,  75000.,  80000.,  85000.,  90000.,  95000., 100000.,\n",
       "        105000., 110000., 115000.]),\n",
       " <BarContainer object of 23 artists>)"
      ]
     },
     "execution_count": 5,
     "metadata": {},
     "output_type": "execute_result"
    },
    {
     "data": {
      "image/png": "[encoded data removed]",
      "text/plain": [
       "<Figure size 640x480 with 1 Axes>"
      ]
     },
     "metadata": {},
     "output_type": "display_data"
    }
   ],
   "source": [
    "import matplotlib.pyplot as plt\n",
    "n_bins = 20\n",
    "\n",
    "# Generate two normal distributions\n",
    "\n",
    "fig, axs = plt.subplots()\n",
    "\n",
    "# We can set the number of bins with the *bins* keyword argument.\n",
    "axs.hist(numdocs, bins=[i for i in range(0,120000,5000)])"
   ]
  },
  {
   "cell_type": "code",
   "execution_count": null,
   "metadata": {},
   "outputs": [],
   "source": [
    "threshold = list(index.find({\"list.numdoc\":{\"$gt\":100000}}, { \"_id\": 1, \"list.numdoc\": 1 }))\n",
    "print([threshold[i]['_id'] for i in range(len(threshold))])\n",
    "with open('domain-specific-stopwords.txt', 'w', encoding='utf8') as f:\n",
    "    for i in range(len(threshold)):\n",
    "        f.write(threshold[i]['_id'])\n",
    "        f.write('\\n')"
   ]
  },
  {
   "cell_type": "code",
   "execution_count": 6,
   "metadata": {},
   "outputs": [
    {
     "name": "stdout",
     "output_type": "stream",
     "text": [
      "['0014', 'στουριδ', '0016', '0017', '0018', '0025', '0026', 'μικροϋπολογισμο', 'τεκτεν', 'στρογγυλευμεν', 'απαγορευοντ', 'αυξηντ', 'εθνοβορ', 'ενεργηθεντ', 'κουτσογιωρ', '1584/23', '1584/87', '671/1982', '2727/75', 'm/v', 'κουραζομεθ', '0062', 'διετρ', 'bενιζελου', '0067', 'αλληλοπαραχωρης', '0070', '0071', 'κοκιν', 'λαϊκιστικοι', 'κατακρεουγ', 'τρομοκρατουντ', 'λουδοβικ', 'παινεμ', 'σεσκουλ', 'γιασπερς', 'ακυριολεξ', 'επραττατ', 'τιραντ', 'σιχας', 'αντεκδικειτα', 'επανελαμβαν', 'χολοσκατ', 'ρεβεραντζ', 'παρεπεμποντ', 'ταυτοσιμ', 'ζγουριδ', 'δημοσθ', 'επικυρουτα', 'επιδειχθεντ', '0112', 'χασομ', 'κρινομ', '68/88', '0117', '0118', 'προσορμιστ', 'φλαμινγκ', 'ξαναφερθ', 'πελωψ', 'μαστευ', 'προδικασατ', 'συνεκαλυψ', 'παρεμποδισατ', '0131', 'αποσχομ', 'εφτακαθαρ', 'σχηματιζατ', 'σταλικ', 'εγεννωντ', 'ραϊμενταλ', 'αιθουσασελιδ', '0159', 'ζητωκραυγαστ', 'εξαιρετον', '0164', 'μαβερικ', '0166', 'συνεδριασις', 'linder', 'σημενς', '0170', 'εκτυπουτα', 'εξεδιωχθην', 'βερει', 'δικηγορισκ', 'πραγματισελιδ', '0190', 'κατωκ', '0192', '0195', 'γρονθοκοπουμεν', 'ειπωθεν', 'ξανανταμως', '0201', 'δαμοφλ', 'σμυκρινς', 'λεβεντογιανν', '0210', 'ενομισθ']\n"
     ]
    }
   ],
   "source": [
    "threshold = list(index.find({\"list.numdoc\":2}, { \"_id\": 1, \"list.numdoc\": 1 }))\n",
    "print([threshold[i]['_id'] for i in range(len(threshold))][:100])"
   ]
  },
  {
   "cell_type": "code",
   "execution_count": 7,
   "metadata": {},
   "outputs": [
    {
     "name": "stdout",
     "output_type": "stream",
     "text": [
      "[{'_id': '000/8/245258/σ'}, {'_id': '000/οικ'}, {'_id': '0000%απο'}, {'_id': '00010ο'}, {'_id': '00012%απο'}, {'_id': '00016%απο'}, {'_id': '0002%απο'}, {'_id': '00020%απο'}, {'_id': '00024%απο'}, {'_id': '0002γραφημα'}, {'_id': '0002θεωρουμε'}, {'_id': '0003%απο'}, {'_id': '0003επιλεξει'}, {'_id': '0004γων'}, {'_id': '0006%απο'}, {'_id': '0006που'}, {'_id': '0008%απο'}, {'_id': '0008μοκρατια'}, {'_id': '0008ο'}, {'_id': '0009ορισμενες'}, {'_id': '000αλλοτε'}, {'_id': '000αυτα'}, {'_id': '000β'}, {'_id': '000γ'}, {'_id': '000για'}, {'_id': '000δ'}, {'_id': '000διδακτικο'}, {'_id': '000δραχμες'}, {'_id': '000δραχμων'}, {'_id': '000δρχ'}, {'_id': '000ε'}, {'_id': '000επι'}, {'_id': '000ετος'}, {'_id': '000ευρω'}, {'_id': '000η'}, {'_id': '000και'}, {'_id': '000καταστηματαρχες'}, {'_id': '000μοναδων'}, {'_id': '000νται'}, {'_id': '000ο'}, {'_id': '000πανω'}, {'_id': '000προηγουμενησμετ'}, {'_id': '000σελιδα'}, {'_id': '000στρ'}, {'_id': '000στρεμματα'}, {'_id': '000στρεμματων'}, {'_id': '000συνολο'}, {'_id': '000τ'}, {'_id': '000τα'}, {'_id': '000υπερβαλλον'}, {'_id': '000χιλ/νων'}, {'_id': '000ως'}, {'_id': '000–γιατι'}, {'_id': '000–και'}, {'_id': '000–συν'}, {'_id': '000–τοσα'}, {'_id': '0010λογη'}, {'_id': '0010μερη'}, {'_id': '0010νομους'}, {'_id': '0011δυο'}, {'_id': '0012/πολ'}, {'_id': '0012αναφερθω'}, {'_id': '0012βητηση'}, {'_id': '0013απο'}, {'_id': '0014περιοριζετε'}, {'_id': '0016των'}, {'_id': '0017αρθρο'}, {'_id': '0018ξεφορτωνονται'}, {'_id': '0019τονους'}, {'_id': '0021γιατι'}, {'_id': '0021μπορουμε'}, {'_id': '0021χως'}, {'_id': '0022/σχετ'}, {'_id': '0022μικρο'}, {'_id': '0022προϋπολογισμος'}, {'_id': '0023εκπροσωπει'}, {'_id': '0023ρηματικο'}, {'_id': '0023ψεων'}, {'_id': '0025το'}, {'_id': '0025χρονικα'}, {'_id': '0026υπαρχουν'}, {'_id': '0027δου'}, {'_id': '0028δικαιολογημενων'}, {'_id': '0028δωσε'}, {'_id': '0029διατυπωση'}, {'_id': '003/2007]σημειωση'}, {'_id': '0030θεση'}, {'_id': '0030τειας'}, {'_id': '0032εγινε'}, {'_id': '0032τηθει'}, {'_id': '0033την'}, {'_id': '0034γες'}, {'_id': '0034και'}, {'_id': '0034πρωινες'}, {'_id': '0035για'}, {'_id': '0035μησεις'}, {'_id': '0036στα'}, {'_id': '0036συνδεομενο'}, {'_id': '0036ταν'}, {'_id': '0037εκμεταλλευονται'}]\n"
     ]
    }
   ],
   "source": [
    "import re\n",
    "\n",
    "to_remove = list(index.find({\"_id\":{\"$regex\":\"^[0-9][0-9][0-9].*[α-ω]$\"}},{ \"_id\": 1, \"list\": 0}))\n",
    "#x = re.findall(\"^[0-9][0-9][0-9].*[α-ω]$\", txt)\n",
    "print(to_remove[:100])"
   ]
  },
  {
   "cell_type": "markdown",
   "metadata": {},
   "source": [
    "### Single Document Keyword Extraction with python libraries"
   ]
  },
  {
   "cell_type": "code",
   "execution_count": 4,
   "metadata": {},
   "outputs": [
    {
     "ename": "TypeError",
     "evalue": "argument of type 'LazyCorpusLoader' is not iterable",
     "output_type": "error",
     "traceback": [
      "\u001b[1;31m---------------------------------------------------------------------------\u001b[0m",
      "\u001b[1;31mTypeError\u001b[0m                                 Traceback (most recent call last)",
      "Cell \u001b[1;32mIn [4], line 3\u001b[0m\n\u001b[0;32m      1\u001b[0m document \u001b[39m=\u001b[39m \u001b[39mlist\u001b[39m(database\u001b[39m.\u001b[39mfind({\u001b[39m\"\u001b[39m\u001b[39m_id\u001b[39m\u001b[39m\"\u001b[39m:\u001b[39m\"\u001b[39m\u001b[39m1\u001b[39m\u001b[39m\"\u001b[39m}, { \u001b[39m\"\u001b[39m\u001b[39m_id\u001b[39m\u001b[39m\"\u001b[39m: \u001b[39m0\u001b[39m, \u001b[39m\"\u001b[39m\u001b[39mspeech\u001b[39m\u001b[39m\"\u001b[39m: \u001b[39m1\u001b[39m }))\n\u001b[0;32m      2\u001b[0m doc \u001b[39m=\u001b[39m document[\u001b[39m0\u001b[39m][\u001b[39m'\u001b[39m\u001b[39mspeech\u001b[39m\u001b[39m'\u001b[39m]\n\u001b[1;32m----> 3\u001b[0m words_in_row \u001b[39m=\u001b[39m ind\u001b[39m.\u001b[39;49mpreprocess_doc(document[\u001b[39m0\u001b[39;49m][\u001b[39m'\u001b[39;49m\u001b[39mspeech\u001b[39;49m\u001b[39m'\u001b[39;49m], stopwords)\n",
      "File \u001b[1;32mc:\\Users\\harry\\official-greek-parliament\\greek-parliament\\indexer.py:54\u001b[0m, in \u001b[0;36mpreprocess_doc\u001b[1;34m(doc, stopwords)\u001b[0m\n\u001b[0;32m     52\u001b[0m \u001b[39m#doc = doc.lower()\u001b[39;00m\n\u001b[0;32m     53\u001b[0m \u001b[39mif\u001b[39;00m doc\u001b[39m!=\u001b[39m\u001b[39m\"\u001b[39m\u001b[39m\"\u001b[39m:\n\u001b[1;32m---> 54\u001b[0m     words \u001b[39m=\u001b[39m [stemmer\u001b[39m.\u001b[39mstem(w\u001b[39m.\u001b[39mupper())\u001b[39m.\u001b[39mlower() \u001b[39mfor\u001b[39;00m w \u001b[39min\u001b[39;00m \u001b[39mfilter\u001b[39m(\u001b[39mNone\u001b[39;00m, re\u001b[39m.\u001b[39msplit(\u001b[39m'\u001b[39m\u001b[39m[,~`; _\u001b[39m\u001b[39m\"\u001b[39m\u001b[39m.\u001b[39m\u001b[39m\\\u001b[39m\u001b[39m-!?:]+\u001b[39m\u001b[39m'\u001b[39m,doc)) \u001b[39mif\u001b[39;00m w \u001b[39mnot\u001b[39;00m \u001b[39min\u001b[39;00m stopwords \u001b[39mand\u001b[39;00m w \u001b[39mnot\u001b[39;00m \u001b[39min\u001b[39;00m string\u001b[39m.\u001b[39mpunctuation]\n\u001b[0;32m     55\u001b[0m \u001b[39mreturn\u001b[39;00m words\n",
      "File \u001b[1;32mc:\\Users\\harry\\official-greek-parliament\\greek-parliament\\indexer.py:54\u001b[0m, in \u001b[0;36m<listcomp>\u001b[1;34m(.0)\u001b[0m\n\u001b[0;32m     52\u001b[0m \u001b[39m#doc = doc.lower()\u001b[39;00m\n\u001b[0;32m     53\u001b[0m \u001b[39mif\u001b[39;00m doc\u001b[39m!=\u001b[39m\u001b[39m\"\u001b[39m\u001b[39m\"\u001b[39m:\n\u001b[1;32m---> 54\u001b[0m     words \u001b[39m=\u001b[39m [stemmer\u001b[39m.\u001b[39mstem(w\u001b[39m.\u001b[39mupper())\u001b[39m.\u001b[39mlower() \u001b[39mfor\u001b[39;00m w \u001b[39min\u001b[39;00m \u001b[39mfilter\u001b[39m(\u001b[39mNone\u001b[39;00m, re\u001b[39m.\u001b[39msplit(\u001b[39m'\u001b[39m\u001b[39m[,~`; _\u001b[39m\u001b[39m\"\u001b[39m\u001b[39m.\u001b[39m\u001b[39m\\\u001b[39m\u001b[39m-!?:]+\u001b[39m\u001b[39m'\u001b[39m,doc)) \u001b[39mif\u001b[39;00m w \u001b[39mnot\u001b[39;49;00m \u001b[39min\u001b[39;49;00m stopwords \u001b[39mand\u001b[39;00m w \u001b[39mnot\u001b[39;00m \u001b[39min\u001b[39;00m string\u001b[39m.\u001b[39mpunctuation]\n\u001b[0;32m     55\u001b[0m \u001b[39mreturn\u001b[39;00m words\n",
      "\u001b[1;31mTypeError\u001b[0m: argument of type 'LazyCorpusLoader' is not iterable"
     ]
    }
   ],
   "source": [
    "document = list(database.find({\"_id\":\"1\"}, { \"_id\": 0, \"speech\": 1 }))\n",
    "doc = document[0]['speech']\n",
    "words_in_row = ind.preprocess_doc(document[0]['speech'], stopwords)"
   ]
  },
  {
   "cell_type": "code",
   "execution_count": null,
   "metadata": {},
   "outputs": [],
   "source": [
    "import yake\n",
    "with open('stopwords.txt', encoding='utf-8') as file:\n",
    "  stopwords = [line.rstrip() for line in file]\n",
    "kw_extractor = yake.KeywordExtractor(top=10, stopwords=stopwords)\n",
    "keywords = kw_extractor.extract_keywords(doc)\n",
    "for kw, v in keywords:\n",
    "  print(\"Keyphrase: \",kw, \": score\", v)"
   ]
  },
  {
   "cell_type": "code",
   "execution_count": null,
   "metadata": {},
   "outputs": [],
   "source": [
    "print(get_keywords(database, \"0\"))"
   ]
  },
  {
   "attachments": {},
   "cell_type": "markdown",
   "metadata": {},
   "source": [
    "### Single Document Keyword Extraction with Networkx"
   ]
  },
  {
   "cell_type": "code",
   "execution_count": 5,
   "metadata": {},
   "outputs": [],
   "source": [
    "def create_graph_of_words(words_in_row:list)->nx.DiGraph:\n",
    "    \"\"\"Creates a graph of words for a single document\n",
    "    \n",
    "    \"\"\"\n",
    "    g = nx.DiGraph()\n",
    "    #add unique words as nodes of the graph\n",
    "    g.add_nodes_from(set(words_in_row))\n",
    "    for j,word in enumerate(words_in_row):\n",
    "        #add word as a node if it doesnt exist\n",
    "        #if word not in g.nodes:\n",
    "            #g.add_node(word)    \n",
    "        #generate list of indexes\n",
    "        gen = (x for x in range(j+1,j+3) if x<len(words_in_row))\n",
    "        for k in gen:\n",
    "            #avoid self-loops\n",
    "            if(word == words_in_row[k]):\n",
    "                pass\n",
    "            #if edge does not exist create it, else increase edge weight\n",
    "            elif((word, words_in_row[k]) not in g.edges):\n",
    "                g.add_edge(word, words_in_row[k])\n",
    "                g[word][words_in_row[k]]['weight'] = 1\n",
    "            else:\n",
    "                g[word][words_in_row[k]]['weight'] += 1\n",
    "    return g\n",
    "\n",
    "def generate_graphs(total_documents:int, chunksize:int, database_collection):\n",
    "    \"\"\"Creates graphs of words for documents of a given collection of documents\n",
    "    \n",
    "    \"\"\"\n",
    "    chunk = []\n",
    "    counter = 0\n",
    "    start_time = time.time()\n",
    "    #get inverted index\n",
    "    ticks = [x for x in range(0,total_documents,chunksize)]\n",
    "    ticks.append(total_documents)\n",
    "    graphs=[]\n",
    "    with open('stopwords.txt', encoding='utf-8') as file:\n",
    "        stopwords = [line.rstrip() for line in file]\n",
    "    for j in range(len(ticks)-1):\n",
    "        tokens = {}\n",
    "        chunk = list(database_collection.find({ }, { \"_id\": 1, \"speech\": 1 })[ticks[j]:ticks[j+1]])\n",
    "        print(\"Length of chunk: \", len(chunk))\n",
    "        size_distribution = []\n",
    "        #chunk = [\"This is a sentance\",\"This is another one\"]\n",
    "        #for each speech\n",
    "        for i, row in enumerate(chunk):\n",
    "            words_in_row = ind.preprocess_doc(row[\"speech\"], stopwords)\n",
    "            graph = create_graph_of_words(words_in_row)\n",
    "            graphs.append(graph)\n",
    "   \n",
    "        #insert chunk of tokens to a mongo collection named index\n",
    "        \n",
    "        print(\"CHUNK\", counter, \" FINISHED\")\n",
    "    \n",
    "    return graphs\n",
    "def weighted_undirected_k_core(graph:nx.Graph):\n",
    "    k = 0\n",
    "    core_numbers = dict([(node,0) for node in graph.nodes])\n",
    "    degrees = dict(graph.degree(weight='weight'))\n",
    "    while(len(graph.nodes)>0):\n",
    "        min_node = get_min_node(degrees)\n",
    "        #print(min_node)\n",
    "        if(degrees[min_node]>k):\n",
    "            core_numbers[min_node] = degrees[min_node]\n",
    "            k = core_numbers[min_node]\n",
    "        else:\n",
    "            core_numbers[min_node] = k\n",
    "        for neighbor in graph.neighbors(min_node):\n",
    "            degrees[neighbor] = degrees[neighbor]  - graph.get_edge_data(neighbor, min_node)['weight']\n",
    "        graph.remove_node(min_node)\n",
    "        del degrees[min_node]\n",
    "        \n",
    "    return core_numbers\n",
    "\n",
    "def get_min_node(degrees):\n",
    "    #sort degrees in increasing orders\n",
    "    degrees = sorted(degrees.items(), key=lambda d: d[1])\n",
    "    return degrees[0][0]\n",
    "\n",
    "#returns the keywords for a document\n",
    "def get_keywords(database_collection, document_id:string)->list:\n",
    "    with open('stopwords.txt', encoding='utf-8') as file:\n",
    "        stopwords = [line.rstrip() for line in file]\n",
    "    with open('domain-specific-stopwords.txt', encoding='utf-8') as file:\n",
    "        domain_specific_stopwords = [line.rstrip() for line in file]\n",
    "    tokens = {}\n",
    "    #read documents from MongoDB in chunks\n",
    "    document = list(database_collection.find({\"_id\":document_id}, { \"_id\": 0, \"speech\": 1 }))\n",
    "    size_distribution = []\n",
    "    #chunk = [\"This is a sentance\",\"This is another one\"]\n",
    "    #for each speech\n",
    "    words_in_row = ind.preprocess_doc(document[0]['speech'], stopwords)\n",
    "    words_in_row = [word for word in words_in_row if word not in domain_specific_stopwords]\n",
    "    graph = create_graph_of_words(words_in_row)\n",
    "    #extract keywords and insert to mongo\n",
    "    #core_numbers = weighted_undirected_k_core(graph)\n",
    "    centrality = nx.pagerank(graph)\n",
    "    centrality = dict(sorted(centrality.items(), key=lambda item: -item[1]))\n",
    "    #print(centrality)\n",
    "    words = list(centrality.keys())\n",
    "    keywords = words[:int(len(words_in_row)/4)]\n",
    "\n",
    "    return keywords\n",
    "\n",
    "#returns the keywords given a directed, unweighted graph of words\n",
    "def extract_keywords(graph_of_words:nx.DiGraph)->list:\n",
    "    \"\"\"Extracts keywords from a graph of words\n",
    "    \n",
    "    \"\"\"\n",
    "    main_core = nx.k_core(graph_of_words)\n",
    "    print(\"Graph size: \", len(graph_of_words.nodes))\n",
    "    print(\"Main core size: \", len(main_core.nodes))\n",
    "    main_core_centrality = nx.in_degree_centrality(main_core)\n",
    "    print(main_core_centrality)\n",
    "    values = main_core_centrality.values()\n",
    "    keys = main_core_centrality.keys()\n",
    "    \n",
    "    #ToDo: find a criterion on which keywords to keep from main core\n",
    "    import statistics as stats\n",
    "    median = (stats.median(values))\n",
    "    keywords = [keyword for keyword in main_core_centrality.keys() if main_core_centrality[keyword]>=median] \n",
    "    return keywords"
   ]
  },
  {
   "cell_type": "code",
   "execution_count": 6,
   "metadata": {},
   "outputs": [],
   "source": [
    "mongo_client = pymongo.MongoClient(\"mongodb://localhost:27017/\")\n",
    "#mongo_client.drop_database(\"GreekParliamentProceedings\")\n",
    "client = mongo_client[\"GreekParliamentProceedings\"]\n",
    "index = client[\"InvertedIndex\"]\n",
    "database = client[\"Database\"]"
   ]
  },
  {
   "cell_type": "code",
   "execution_count": 10,
   "metadata": {},
   "outputs": [
    {
     "name": "stdout",
     "output_type": "stream",
     "text": [
      "['προγραμμ', 'εργ', 'ελλαδ', 'αλλαγ', 'εποχ', 'προχωρ', 'αποκρατικοποιης', 'λα', 'ηδη', 'τομ', 'σημαντικ', 'αγαπητ', 'διοικης', 'καλ', 'φορολογ', 'εκσυγχρονισμ', 'εξυγιανς', 'κρατ', '1991', 'βαρ']\n",
      "\n",
      "Keyphrase:  Μέγαρο Βουλής Αγαπητέ : score 0.016875460054915633\n",
      "Keyphrase:  Τσαλδάρη Μέγαρο Βουλής : score 0.018061732484664847\n",
      "Keyphrase:  Αθανάσιο Τσαλδάρη Μέγαρο : score 0.02139547982025511\n",
      "Keyphrase:  κύριοι συνάδελφοι : score 0.02363532523553325\n",
      "Keyphrase:  Παπανδρέου Πρόεδρος Πανελληνίου : score 0.03528529969250768\n",
      "Keyphrase:  Πρόεδρος Πανελληνίου Σοσιαλιστικού : score 0.03528529969250768\n",
      "Keyphrase:  Πανελληνίου Σοσιαλιστικού Κινήματος : score 0.03528529969250768\n",
      "Keyphrase:  Βουλής : score 0.037353559438839376\n",
      "Keyphrase:  Βουλής κύριο Αθανάσιο : score 0.039177003790680065\n",
      "Keyphrase:  κύριο Αθανάσιο Τσαλδάρη : score 0.04677562204752342\n"
     ]
    }
   ],
   "source": [
    "#get keywords for a single document\n",
    "keywords = get_keywords(database, \"63428\")\n",
    "print(keywords[:20])\n",
    "import yake\n",
    "\n",
    "with open('stopwords.txt', encoding='utf-8') as file:\n",
    "  stopwords = [line.rstrip() for line in file]\n",
    "document = list(database.find({\"_id\":\"20\"}, { \"_id\": 0, \"speech\": 1 }))\n",
    "doc = document[0]['speech']\n",
    "words_in_row = ind.preprocess_doc(document[0]['speech'], stopwords)\n",
    "kw_extractor = yake.KeywordExtractor(top=10, stopwords=stopwords)\n",
    "keywords = kw_extractor.extract_keywords(doc)\n",
    "print( )\n",
    "for kw, v in keywords:\n",
    "  print(\"Keyphrase: \",kw, \": score\", v)"
   ]
  },
  {
   "cell_type": "code",
   "execution_count": 28,
   "metadata": {},
   "outputs": [],
   "source": [
    "import spacy\n",
    "def transform_uni_to_ngram(unigram_keywords, text):\n",
    "  \"\"\"\n",
    "  Candidate unigrams that form ngrams in the text\n",
    "  are merged and now form a single candidate keyphrase.\n",
    "  \"\"\"\n",
    "  # set the spacy model\n",
    "  nlp = spacy.load(\"el_core_news_md\")\n",
    "\n",
    "  # function that tells if spacy token is keyword or not\n",
    "  ckw_getter = lambda token: token.text.lower() in unigram_keywords\n",
    "  \n",
    "  # set that function as token extension (as attribute with ._)\n",
    "  #token = token.set_extension(\"is_ckw\", getter=ckw_getter, force=True)\n",
    "\n",
    "  # variable to store resulting keyphrases\n",
    "  res = []\n",
    "  \n",
    "  # split original text in sentences\n",
    "  sentences = nltk.sent_tokenize(text)\n",
    "  \n",
    "  for sent in sentences:\n",
    "      # start keyphrase as empty string\n",
    "      merged_tokens = ''\n",
    "      \n",
    "      # process sentence with spacy model defined beforehand\n",
    "      sent = nlp(sent)\n",
    "      \n",
    "      for token in sent:\n",
    "          # if token is candidate KW (according to func defined before)\n",
    "          token = token.set_extension(\"is_ckw\", getter=ckw_getter, force=True)\n",
    "          if token._.is_ckw:\n",
    "              print(token)\n",
    "              # add it to keyphrase\n",
    "              merged_tokens += token.text.lower() + ' '\n",
    "         \n",
    "         # means that sequence of tokens in text that are candidate KW ends\n",
    "          else:\n",
    "              # check if keyphrase not empty and already not in list of results\n",
    "              if merged_tokens != '' and merged_tokens.strip() not in res:\n",
    "                  \n",
    "                  # only add keyphrases for now, no unigrams\n",
    "                  if len(merged_tokens.strip().split(' ')) != 1:\n",
    "                      res.append(merged_tokens.strip())\n",
    "                  \n",
    "                  # set keyphrase as empty string again\n",
    "                  merged_tokens = ''\n",
    "\n",
    "\n",
    "  for uni in unigram_keywords:\n",
    "      # only add unigram KW to results list if not there already\n",
    "      if uni not in res:\n",
    "          \n",
    "          add_uni = True\n",
    "          \n",
    "          for other in res:  \n",
    "              # only add unigram KW to results list if not used in keyphrase somewhere\n",
    "              if uni in other:\n",
    "                  add_uni = False\n",
    "          \n",
    "          if add_uni:\n",
    "              res.append(uni)   \n",
    "  \n",
    "  return res"
   ]
  },
  {
   "cell_type": "code",
   "execution_count": 29,
   "metadata": {},
   "outputs": [
    {
     "ename": "AttributeError",
     "evalue": "'NoneType' object has no attribute '_'",
     "output_type": "error",
     "traceback": [
      "\u001b[1;31m---------------------------------------------------------------------------\u001b[0m",
      "\u001b[1;31mAttributeError\u001b[0m                            Traceback (most recent call last)",
      "Cell \u001b[1;32mIn [29], line 3\u001b[0m\n\u001b[0;32m      1\u001b[0m text \u001b[39m=\u001b[39m document \u001b[39m=\u001b[39m \u001b[39mlist\u001b[39m(database\u001b[39m.\u001b[39mfind({\u001b[39m\"\u001b[39m\u001b[39m_id\u001b[39m\u001b[39m\"\u001b[39m:\u001b[39m\"\u001b[39m\u001b[39m63428\u001b[39m\u001b[39m\"\u001b[39m}, { \u001b[39m\"\u001b[39m\u001b[39m_id\u001b[39m\u001b[39m\"\u001b[39m: \u001b[39m0\u001b[39m, \u001b[39m\"\u001b[39m\u001b[39mspeech\u001b[39m\u001b[39m\"\u001b[39m: \u001b[39m1\u001b[39m }))\n\u001b[1;32m----> 3\u001b[0m aaaa \u001b[39m=\u001b[39m transform_uni_to_ngram(keywords,text[\u001b[39m0\u001b[39;49m][\u001b[39m'\u001b[39;49m\u001b[39mspeech\u001b[39;49m\u001b[39m'\u001b[39;49m])\n",
      "Cell \u001b[1;32mIn [28], line 32\u001b[0m, in \u001b[0;36mtransform_uni_to_ngram\u001b[1;34m(unigram_keywords, text)\u001b[0m\n\u001b[0;32m     29\u001b[0m \u001b[39mfor\u001b[39;00m token \u001b[39min\u001b[39;00m sent:\n\u001b[0;32m     30\u001b[0m     \u001b[39m# if token is candidate KW (according to func defined before)\u001b[39;00m\n\u001b[0;32m     31\u001b[0m     token \u001b[39m=\u001b[39m token\u001b[39m.\u001b[39mset_extension(\u001b[39m\"\u001b[39m\u001b[39mis_ckw\u001b[39m\u001b[39m\"\u001b[39m, getter\u001b[39m=\u001b[39mckw_getter, force\u001b[39m=\u001b[39m\u001b[39mTrue\u001b[39;00m)\n\u001b[1;32m---> 32\u001b[0m     \u001b[39mif\u001b[39;00m token\u001b[39m.\u001b[39;49m_\u001b[39m.\u001b[39mis_ckw:\n\u001b[0;32m     33\u001b[0m         \u001b[39mprint\u001b[39m(token)\n\u001b[0;32m     34\u001b[0m         \u001b[39m# add it to keyphrase\u001b[39;00m\n",
      "\u001b[1;31mAttributeError\u001b[0m: 'NoneType' object has no attribute '_'"
     ]
    }
   ],
   "source": [
    "text = document = list(database.find({\"_id\":\"63428\"}, { \"_id\": 0, \"speech\": 1 }))\n",
    "\n",
    "aaaa = transform_uni_to_ngram(keywords,text[0]['speech'])\n"
   ]
  },
  {
   "cell_type": "code",
   "execution_count": null,
   "metadata": {},
   "outputs": [],
   "source": [
    "#test, pls ignore\n",
    "dataframe1 = list(database.find({ }, { \"_id\": 1, \"speech\": 1 })[:100000])\n",
    "for i, row in enumerate(dataframe1):\n",
    "    #print(row[\"_id\"])\n",
    "    pass"
   ]
  },
  {
   "cell_type": "code",
   "execution_count": null,
   "metadata": {},
   "outputs": [],
   "source": [
    "#print(graphs[0].edges)\n",
    "import matplotlib.pyplot as plt\n",
    " \n",
    "plt.savefig('graph.png')\n",
    "# larger figure size\n",
    "#pos = nx.circular_layout(graphs[2])\n",
    "\n",
    "plt.figure(3,figsize=(12,12)) \n",
    "nx.draw_networkx(graphs[0], with_labels=True,node_size=80,font_size=15)\n",
    "plt.show()"
   ]
  },
  {
   "cell_type": "markdown",
   "metadata": {},
   "source": [
    "### Extract keywords for a parliament member"
   ]
  },
  {
   "cell_type": "code",
   "execution_count": null,
   "metadata": {},
   "outputs": [],
   "source": [
    "mongo_client = pymongo.MongoClient(\"mongodb://localhost:27017/\")\n",
    "#mongo_client.drop_database(\"GreekParliamentProceedings\")\n",
    "client = mongo_client[\"GreekParliamentProceedings\"]\n",
    "index = client[\"InvertedIndex\"]\n",
    "database = client[\"Database\"]"
   ]
  },
  {
   "cell_type": "code",
   "execution_count": null,
   "metadata": {},
   "outputs": [],
   "source": [
    "#get distinct parliament member names in a list\n",
    "member_names = database.distinct(\"member_name\")"
   ]
  },
  {
   "cell_type": "code",
   "execution_count": null,
   "metadata": {},
   "outputs": [],
   "source": [
    "def get_member_keywords(member_name:string)->list:\n",
    "    #get ids of member's total speeches\n",
    "    member_speeches = list(database.find({\"member_name\": member_name}, { \"_id\": 1, \"speech\": 0 }))\n",
    "    total_keywords = []\n",
    "    for speech in member_speeches:\n",
    "        keywords = get_keywords(database, speech['_id'])\n",
    "        total_keywords.extend(keywords)\n",
    "    keyword_frequency = {}\n",
    "    for keyword in set(total_keywords):\n",
    "        keyword_frequency[keyword] = total_keywords.count(keyword)\n",
    "    keyword_frequency = sorted(keyword_frequency.items(), key=lambda d: d[1], reverse=True)\n",
    "    return keyword_frequency[:10]"
   ]
  },
  {
   "cell_type": "code",
   "execution_count": null,
   "metadata": {},
   "outputs": [],
   "source": [
    "print(get_member_keywords(member_name=member_names[10]))"
   ]
  },
  {
   "attachments": {},
   "cell_type": "markdown",
   "metadata": {},
   "source": [
    "## Networkx library test"
   ]
  },
  {
   "cell_type": "code",
   "execution_count": null,
   "metadata": {},
   "outputs": [],
   "source": [
    "#networkx library\n",
    "import networkx as nx\n",
    "g = nx.Graph()\n",
    "l = ['1','2','3']\n",
    "#g.add_nodes_from(l)\n",
    "\n",
    "for word in l:\n",
    "    if(word not in list(g.nodes)):\n",
    "        g.add_node(word)\n",
    "for e in list(g.nodes):\n",
    "    print(e)\n",
    "    \n",
    "g.add_edge('1','2')\n",
    "g.add_edge('2','3')\n",
    "if(('1','2') in g.edges):\n",
    "    print(' in')\n",
    "for e in list(g.edges):\n",
    "    print(e)"
   ]
  },
  {
   "cell_type": "code",
   "execution_count": null,
   "metadata": {},
   "outputs": [],
   "source": [
    "\n",
    "graphs = generate_graphs(100,100,database)\n",
    "graph = graphs[78]\n",
    "for node in graph.nodes:\n",
    "    for neighbor in graph.neighbors(node):\n",
    "        if(graph.get_edge_data(neighbor, node)['weight']>1):\n",
    "            print(graph.get_edge_data(neighbor, node)['weight'])"
   ]
  },
  {
   "cell_type": "code",
   "execution_count": null,
   "metadata": {},
   "outputs": [],
   "source": [
    "core_numbers = dict(core_numbers)\n",
    "max_core = [num for num in core_numbers.values() if(num==2)]\n",
    "print(len(max_core))"
   ]
  },
  {
   "cell_type": "code",
   "execution_count": null,
   "metadata": {},
   "outputs": [],
   "source": [
    "test = nx.Graph()\n",
    "test.add_nodes_from([1,2,3,4,5,6])\n",
    "test.add_edge(1,2)\n",
    "test[1][2]['weight'] = 2\n",
    "test.add_edge(1,4)\n",
    "test[1][4]['weight'] = 4\n",
    "\n",
    "test.add_edge(2,3)\n",
    "test[2][3]['weight'] = 3\n",
    "\n",
    "test.add_edge(3,4)\n",
    "test[3][4]['weight'] = 5\n",
    "\n",
    "test.add_edge(3,5)\n",
    "test[3][5]['weight'] = 7\n",
    "\n",
    "test.add_edge(4,5)\n",
    "test[4][5]['weight'] = 6\n",
    "\n",
    "test.add_edge(5,6)\n",
    "test[5][6]['weight'] = 8\n",
    "\n"
   ]
  },
  {
   "cell_type": "code",
   "execution_count": null,
   "metadata": {},
   "outputs": [],
   "source": [
    "k = 0\n",
    "core_numbers = dict([(node,0) for node in test.nodes])\n",
    "#print(graph.nodes)\n",
    "print('sdfdsf.',len(nx.k_core(test).nodes))\n",
    "degrees = dict(test.degree(weight='weight'))\n",
    "while(len(test.nodes)>0):\n",
    "    min_node = get_min_node(degrees)\n",
    "    #print(min_node)\n",
    "    if(degrees[min_node]>k):\n",
    "        core_numbers[min_node] = degrees[min_node]\n",
    "        k = core_numbers[min_node]\n",
    "    else:\n",
    "        core_numbers[min_node] = k\n",
    "    for neighbor in test.neighbors(min_node):\n",
    "        print(neighbor)\n",
    "        degrees[neighbor] = degrees[neighbor]  - test.get_edge_data(min_node, neighbor)['weight']\n",
    "    test.remove_node(min_node)\n",
    "    del degrees[min_node]\n",
    "    \n",
    "print(sorted(core_numbers.items(), key=lambda d: d[1]))\n",
    "print(len(core_numbers))"
   ]
  },
  {
   "cell_type": "code",
   "execution_count": null,
   "metadata": {},
   "outputs": [],
   "source": [
    "graph = graphs[0]\n",
    "#in+out degree\n",
    "def get_graph_degrees(graph):\n",
    "    degrees = [deg for deg in nx.degree(graph)]\n",
    "    degrees = sorted(degrees,key=lambda d: d[1])\n",
    "    degrees = dict(degrees)\n",
    "    return degrees\n",
    "core = {}\n",
    "degrees = get_graph_degrees(graph)\n",
    "print((degrees))\n",
    "for vertex in degrees.keys():\n",
    "    #print(\"Checking vertex: \", vertex)\n",
    "    core[vertex] = degrees[vertex]\n",
    "    neighbors = list(graph.predecessors(vertex)) + list(graph.successors(vertex))\n",
    "    for neighbor in neighbors:\n",
    "        #print(f\"     Checking neighbors of vertex: {vertex}->{neighbor}\")\n",
    "        if(degrees[neighbor]>degrees[vertex]):\n",
    "            degrees[neighbor] = degrees[neighbor] - 1\n",
    "            #reorder degreesdictionary accordingly\n",
    "            degrees = dict(sorted(degrees.items(),key=lambda d: d[1]))\n",
    "print(core)\n",
    "print((nx.k_core(graph).nodes))"
   ]
  }
 ],
 "metadata": {
  "kernelspec": {
   "display_name": "Python 3",
   "language": "python",
   "name": "python3"
  },
  "language_info": {
   "codemirror_mode": {
    "name": "ipython",
    "version": 3
   },
   "file_extension": ".py",
   "mimetype": "text/x-python",
   "name": "python",
   "nbconvert_exporter": "python",
   "pygments_lexer": "ipython3",
   "version": "3.10.7"
  },
  "orig_nbformat": 4,
  "vscode": {
   "interpreter": {
    "hash": "369f2c481f4da34e4445cda3fffd2e751bd1c4d706f27375911949ba6bb62e1c"
   }
  }
 },
 "nbformat": 4,
 "nbformat_minor": 2
}
