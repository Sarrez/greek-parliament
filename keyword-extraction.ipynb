{
 "cells": [
  {
   "cell_type": "code",
   "execution_count": null,
   "metadata": {},
   "outputs": [],
   "source": [
    "import nltk\n",
    "from nltk.corpus import stopwords\n",
    "from nltk.tokenize import sent_tokenize, word_tokenize\n",
    "import csv\n",
    "import pandas as pd\n",
    "import json\n",
    "import time\n",
    "from nltk.corpus import stopwords\n",
    "from nltk.tokenize import sent_tokenize, word_tokenize\n",
    "import string \n",
    "import unicodedata as ud\n",
    "from greek_stemmer import GreekStemmer\n",
    "import pymongo\n",
    "import numpy as np\n",
    "import re\n",
    "import networkx as nx"
   ]
  },
  {
   "cell_type": "code",
   "execution_count": null,
   "metadata": {},
   "outputs": [],
   "source": [
    "def create_graph_of_words(words_in_row:list)->nx.DiGraph:\n",
    "    g = nx.DiGraph()\n",
    "    #add unique words as nodes of the graph\n",
    "    g.add_nodes_from(set(words_in_row))\n",
    "    for j,word in enumerate(words_in_row):\n",
    "        #add word as a node if it doesnt exist\n",
    "        #if word not in g.nodes:\n",
    "            #g.add_node(word)    \n",
    "        #generate list of indexes\n",
    "        gen = (x for x in range(j+1,j+4) if x<len(words_in_row))\n",
    "        for k in gen:\n",
    "            #avoid self-loops\n",
    "            if(word == words_in_row[k]):\n",
    "                pass\n",
    "            #if edge does not exist create it, else increase edge weight\n",
    "            elif((word, words_in_row[k]) not in g.edges):\n",
    "                g.add_edge(word, words_in_row[k])\n",
    "                g[word][words_in_row[k]]['weight'] = 1\n",
    "            else:\n",
    "                g[word][words_in_row[k]]['weight'] += 1\n",
    "    return g"
   ]
  },
  {
   "cell_type": "code",
   "execution_count": 3,
   "metadata": {},
   "outputs": [],
   "source": [
    "import pymongo\n",
    "mongo_client = pymongo.MongoClient(\"mongodb://localhost:27017/\")\n",
    "database = mongo_client[\"GreekParliamentProceedings\"]\n",
    "collection = database[\"Database\"]\n",
    "#dataframe = pd.DataFrame(list(collection.find()))"
   ]
  },
  {
   "cell_type": "code",
   "execution_count": 4,
   "metadata": {},
   "outputs": [],
   "source": [
    "#test, pls ignore\n",
    "dataframe1 = list(collection.find({ }, { \"_id\": 1, \"speech\": 1 })[:100000])\n",
    "for i, row in enumerate(dataframe1):\n",
    "    #print(row[\"_id\"])\n",
    "    pass"
   ]
  },
  {
   "cell_type": "code",
   "execution_count": 54,
   "metadata": {},
   "outputs": [],
   "source": [
    "#test, pls ignore\n",
    "ticks = [x for x in range(0,1200234,100000)]\n",
    "ticks.append(1200234)\n",
    "for i in range(len(ticks)-1):\n",
    "    #print(ticks[i],ticks[i+1])\n",
    "    pass\n",
    "import pymongo\n",
    "mongo_client = pymongo.MongoClient(\"mongodb://localhost:27017/\")\n",
    "inverted_index = mongo_client[\"GreekParliamentProceedings\"]\n",
    "collection = inverted_index[\"InvertedIndex\"]\n",
    "for i in collection.find({\"list.postinglist\":{\"$gt\":900000}}):\n",
    "    print(i[\"_id\"])"
   ]
  },
  {
   "cell_type": "code",
   "execution_count": null,
   "metadata": {},
   "outputs": [],
   "source": [
    "#print(graphs[0].edges)\n",
    "import matplotlib.pyplot as plt\n",
    " \n",
    "plt.savefig('graph.png')\n",
    "# larger figure size\n",
    "#pos = nx.circular_layout(graphs[2])\n",
    "\n",
    "plt.figure(3,figsize=(12,12)) \n",
    "nx.draw_networkx(graphs[2], with_labels=True,node_size=80,font_size=15)\n",
    "plt.show()"
   ]
  },
  {
   "cell_type": "code",
   "execution_count": null,
   "metadata": {},
   "outputs": [],
   "source": [
    "print(len(graphs[456].nodes))\n",
    "#567"
   ]
  },
  {
   "cell_type": "code",
   "execution_count": null,
   "metadata": {},
   "outputs": [],
   "source": [
    "res = nx.k_core(graphs[456])\n",
    "print(len(res.nodes))\n",
    "print((res.nodes))"
   ]
  },
  {
   "attachments": {},
   "cell_type": "markdown",
   "metadata": {},
   "source": [
    "## Networkx library test"
   ]
  },
  {
   "cell_type": "code",
   "execution_count": null,
   "metadata": {},
   "outputs": [],
   "source": [
    "#networkx library\n",
    "import networkx as nx\n",
    "g = nx.Graph()\n",
    "l = ['1','2','3']\n",
    "#g.add_nodes_from(l)\n",
    "\n",
    "for word in l:\n",
    "    if(word not in list(g.nodes)):\n",
    "        g.add_node(word)\n",
    "for e in list(g.nodes):\n",
    "    print(e)\n",
    "    \n",
    "g.add_edge('1','2')\n",
    "g.add_edge('2','3')\n",
    "if(('1','2') in g.edges):\n",
    "    print(' in')\n",
    "for e in list(g.edges):\n",
    "    print(e)"
   ]
  }
 ],
 "metadata": {
  "kernelspec": {
   "display_name": "base",
   "language": "python",
   "name": "python3"
  },
  "language_info": {
   "codemirror_mode": {
    "name": "ipython",
    "version": 3
   },
   "file_extension": ".py",
   "mimetype": "text/x-python",
   "name": "python",
   "nbconvert_exporter": "python",
   "pygments_lexer": "ipython3",
   "version": "3.8.5"
  },
  "orig_nbformat": 4,
  "vscode": {
   "interpreter": {
    "hash": "ad2bdc8ecc057115af97d19610ffacc2b4e99fae6737bb82f5d7fb13d2f2c186"
   }
  }
 },
 "nbformat": 4,
 "nbformat_minor": 2
}
