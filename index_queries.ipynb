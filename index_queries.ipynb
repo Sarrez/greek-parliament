{
 "cells": [
  {
   "cell_type": "code",
   "execution_count": 4,
   "metadata": {},
   "outputs": [],
   "source": [
    "import pymongo\n",
    "mongo_client = pymongo.MongoClient(\"mongodb://localhost:27017/\")\n",
    "inverted_index = mongo_client[\"GreekParliamentProceedings\"]\n",
    "collection = inverted_index[\"InvertedIndex\"]\n",
    "#get object with id\n",
    "collection.find({\"_id\":\"κυρι\"})\n",
    "    "
   ]
  },
  {
   "cell_type": "code",
   "execution_count": 35,
   "metadata": {},
   "outputs": [
    {
     "name": "stdout",
     "output_type": "stream",
     "text": [
      "{'_id': 'κυρι', 'list': {'numdoc': 34283}}\n",
      "{'_id': 'δεν', 'list': {'numdoc': 30083}}\n",
      "{'_id': 'αυτ', 'list': {'numdoc': 28782}}\n",
      "{'_id': 'εχ', 'list': {'numdoc': 28467}}\n",
      "{'_id': 'ειναι', 'list': {'numdoc': 28126}}\n",
      "{'_id': 'θα', 'list': {'numdoc': 28122}}\n",
      "{'_id': 'οτι', 'list': {'numdoc': 27525}}\n",
      "{'_id': 'απο', 'list': {'numdoc': 24630}}\n",
      "{'_id': 'οποι', 'list': {'numdoc': 20049}}\n",
      "{'_id': 'υπουργ', 'list': {'numdoc': 19200}}\n",
      "{'_id': 'τις', 'list': {'numdoc': 19030}}\n",
      "{'_id': 'μια', 'list': {'numdoc': 18238}}\n",
      "{'_id': 'αλλα', 'list': {'numdoc': 18039}}\n",
      "{'_id': 'εν', 'list': {'numdoc': 18005}}\n",
      "{'_id': 'προεδρ', 'list': {'numdoc': 17663}}\n",
      "{'_id': 'συναδελφ', 'list': {'numdoc': 16804}}\n",
      "{'_id': 'καν', 'list': {'numdoc': 16308}}\n",
      "{'_id': 'μπορ', 'list': {'numdoc': 16177}}\n",
      "{'_id': 'αλλ', 'list': {'numdoc': 15730}}\n",
      "{'_id': 'υπαρχ', 'list': {'numdoc': 15699}}\n",
      "{'_id': 'ολ', 'list': {'numdoc': 15478}}\n",
      "{'_id': 'γιν', 'list': {'numdoc': 15477}}\n",
      "{'_id': 'γιατι', 'list': {'numdoc': 14950}}\n",
      "{'_id': 'θεμ', 'list': {'numdoc': 14397}}\n",
      "{'_id': 'πρεπ', 'list': {'numdoc': 13961}}\n"
     ]
    }
   ],
   "source": [
    "# mongo db projection: https://www.mongodb.com/docs/manual/reference/method/db.collection.find/#std-label-method-find-projection\n",
    "#find all numdocs\n",
    "numdocs = collection.find({},{\"list.numdoc\":1,\"_id\":1})\n",
    "#sort numdocs in descending order\n",
    "numdocs=numdocs.sort(\"list.numdoc\",-1).limit(25)\n",
    "i = 0\n",
    "for num in numdocs:\n",
    "    print(num)\n"
   ]
  }
 ],
 "metadata": {
  "kernelspec": {
   "display_name": "base",
   "language": "python",
   "name": "python3"
  },
  "language_info": {
   "codemirror_mode": {
    "name": "ipython",
    "version": 3
   },
   "file_extension": ".py",
   "mimetype": "text/x-python",
   "name": "python",
   "nbconvert_exporter": "python",
   "pygments_lexer": "ipython3",
   "version": "3.8.5 (default, Sep  3 2020, 21:29:08) [MSC v.1916 64 bit (AMD64)]"
  },
  "orig_nbformat": 4,
  "vscode": {
   "interpreter": {
    "hash": "ad2bdc8ecc057115af97d19610ffacc2b4e99fae6737bb82f5d7fb13d2f2c186"
   }
  }
 },
 "nbformat": 4,
 "nbformat_minor": 2
}
