{
 "cells": [
  {
   "cell_type": "code",
   "execution_count": 3,
   "metadata": {},
   "outputs": [
    {
     "data": {
      "text/plain": [
       "<pymongo.cursor.Cursor at 0x24db4327c40>"
      ]
     },
     "execution_count": 3,
     "metadata": {},
     "output_type": "execute_result"
    }
   ],
   "source": [
    "import pymongo\n",
    "mongo_client = pymongo.MongoClient(\"mongodb://localhost:27017/\")\n",
    "inverted_index = mongo_client[\"GreekParliamentProceedings\"]\n",
    "collection = inverted_index[\"InvertedIndex\"]\n",
    "#get object with id\n",
    "collection.find({\"_id\":\"κυρι\"})\n",
    "    "
   ]
  },
  {
   "cell_type": "code",
   "execution_count": 2,
   "metadata": {},
   "outputs": [],
   "source": [
    "# mongo db projection: https://www.mongodb.com/docs/manual/reference/method/db.collection.find/#std-label-method-find-projection\n",
    "#find all numdocs\n",
    "numdocs = collection.find({},{\"list.numdoc\":1,\"_id\":1})\n",
    "#sort numdocs in descending order\n",
    "numdocs=numdocs.sort(\"list.numdoc\",-1).limit(100)\n",
    "i = 0\n",
    "for num in numdocs:\n",
    "    # Open a file with access mode 'a'\n",
    "    with open(\"sample.txt\", \"a\") as file_object:\n",
    "    # Append 'hello' at the end of file\n",
    "        file_object.write(num['_id']+'\\n')\n"
   ]
  },
  {
   "cell_type": "code",
   "execution_count": null,
   "metadata": {},
   "outputs": [],
   "source": [
    "print(len(numdocs))"
   ]
  },
  {
   "cell_type": "code",
   "execution_count": 3,
   "metadata": {},
   "outputs": [],
   "source": [
    "res = list(collection.find({ }, { \"_id\": 0, \"list.postinglist\": 1 }))"
   ]
  },
  {
   "cell_type": "code",
   "execution_count": null,
   "metadata": {},
   "outputs": [],
   "source": [
    "print(len(res))"
   ]
  },
  {
   "cell_type": "code",
   "execution_count": 4,
   "metadata": {},
   "outputs": [],
   "source": [
    "total = set()\n",
    "for i in range(len(res)):\n",
    "    total_documents = set((res[i]['list']['postinglist'].keys()))\n",
    "    total.update(total_documents)"
   ]
  },
  {
   "cell_type": "code",
   "execution_count": 5,
   "metadata": {},
   "outputs": [
    {
     "name": "stdout",
     "output_type": "stream",
     "text": [
      "376705\n"
     ]
    }
   ],
   "source": [
    "total = list(total)\n",
    "for i in range(len(total)):\n",
    "    total[i] = int(total[i])\n",
    "import pickle\n",
    "with open('speech_indexes.pickle', 'rb') as handle:\n",
    "    speech_indexes = pickle.load(handle)\n",
    "print(len(speech_indexes))"
   ]
  },
  {
   "cell_type": "code",
   "execution_count": null,
   "metadata": {},
   "outputs": [],
   "source": [
    "to_remove = list(collection.find({\"_id\":{\"$regex\":\"^[0-9][0-9][0-9]\"}},{ \"_id\": 1, \"list\": 0}))\n",
    "print((to_remove))\n"
   ]
  }
 ],
 "metadata": {
  "kernelspec": {
   "display_name": "base",
   "language": "python",
   "name": "python3"
  },
  "language_info": {
   "codemirror_mode": {
    "name": "ipython",
    "version": 3
   },
   "file_extension": ".py",
   "mimetype": "text/x-python",
   "name": "python",
   "nbconvert_exporter": "python",
   "pygments_lexer": "ipython3",
   "version": "3.8.16"
  },
  "orig_nbformat": 4,
  "vscode": {
   "interpreter": {
    "hash": "ad2bdc8ecc057115af97d19610ffacc2b4e99fae6737bb82f5d7fb13d2f2c186"
   }
  }
 },
 "nbformat": 4,
 "nbformat_minor": 2
}
