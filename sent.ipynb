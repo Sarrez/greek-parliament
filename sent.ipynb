{
 "cells": [
  {
   "cell_type": "code",
   "execution_count": 1,
   "metadata": {},
   "outputs": [],
   "source": [
    "# CONNECT TO DATABASE\n",
    "import pymongo\n",
    "mongo_client = pymongo.MongoClient(\"mongodb://localhost:27017/\")\n",
    "client = mongo_client[\"GreekParliamentProceedings\"]\n",
    "index = client[\"InvertedIndex\"]\n",
    "database = client[\"Database\"]"
   ]
  },
  {
   "attachments": {},
   "cell_type": "markdown",
   "metadata": {},
   "source": [
    "### Approach 1: Using greek sentiment lexicon (https://github.com/MKLab-ITI/greek-sentiment-lexicon)"
   ]
  },
  {
   "cell_type": "code",
   "execution_count": 2,
   "metadata": {},
   "outputs": [],
   "source": [
    "import spacy\n",
    "import pandas as pd\n",
    "import operator\n",
    "indexes = {}\n",
    "df = pd.read_csv('greek_sentiment_lexicon.tsv',sep='\\t')\n",
    "df = df.fillna('N/A')\n",
    "for index, row in df.iterrows():\n",
    "    df.at[index, \"Term\"] = row[\"Term\"].split(' ')[0]\n",
    "    indexes[df.at[index, \"Term\"]] = index\n",
    "    \n",
    "def main_emotion(speech, id,  indexes):\n",
    "    results = {}\n",
    "    text = speech\n",
    "    subj_scores = {\n",
    "        'OBJ': 0,\n",
    "        'SUBJ-': 0.5,\n",
    "        'SUBJ+': 1,\n",
    "    }\n",
    "\n",
    "    emotion_scores = {\n",
    "        'N/A': 0,\n",
    "        '1.0': 0.2,\n",
    "        '2.0': 0.4,\n",
    "        '3.0': 0.6,\n",
    "        '4.0': 0.8,\n",
    "        '5.0': 1,\n",
    "    }\n",
    "\n",
    "    polarity_scores = {\n",
    "        'N/A': 0,\n",
    "        'BOTH': 0,\n",
    "        'NEG': -1,\n",
    "        'POS': 1\n",
    "    }\n",
    "\n",
    "    nlp = spacy.load(\"el_core_news_sm\")\n",
    "    doc = nlp(text)\n",
    "    matched_tokens = 0\n",
    "    scorelist = [0 for _ in range(7)]\n",
    "    for token in doc:\n",
    "        lemmatized_token = token.lemma_\n",
    "        if (lemmatized_token in indexes):\n",
    "            indx = indexes[lemmatized_token]\n",
    "            pos_flag = False\n",
    "            for col in [\"POS1\", \"POS2\", \"POS3\", \"POS4\"]:\n",
    "                if (token.pos_ == df.at[indx,col]):\n",
    "                    pos_flag = True\n",
    "                    break\n",
    "            if (pos_flag == True):\n",
    "                match_col_index = [int(s) for s in col if s.isdigit()][0]\n",
    "                indexlist = ['Subjectivity', 'Anger', 'Disgust', 'Fear', 'Happiness', 'Sadness', 'Surprise']\n",
    "                for i in range(len(scorelist)):\n",
    "                    if(i==0):\n",
    "                        if(df.at[indx,indexlist[i]+str(match_col_index)]!='N/A'):\n",
    "                            scorelist[i] += subj_scores[df.at[indx,indexlist[i]+str(match_col_index)]]\n",
    "                    else:\n",
    "                        if(df.at[indx, indexlist[i]+str(match_col_index)]!='N/A'):\n",
    "                            scorelist[i] += emotion_scores[str(df.at[indx, indexlist[i]+str(match_col_index)])]\n",
    "                matched_tokens+=1\n",
    "\n",
    "    try:\n",
    "        emotions = {'anger': scorelist[1], 'disgust': scorelist[2], 'fear':scorelist[3], 'happiness':scorelist[4], 'sadness': scorelist[5], 'surprise': scorelist[6]}\n",
    "        emotion = max(emotions.items(), key=operator.itemgetter(1))[0]\n",
    "        if (emotions[emotion] == 0):\n",
    "            results[id] = ['N/A']\n",
    "        else:\n",
    "            results[id] = [emotion, str(emotions[emotion]*100/matched_tokens)]\n",
    "    except:\n",
    "        print('No matched tokens')\n",
    "    return results"
   ]
  },
  {
   "cell_type": "code",
   "execution_count": 3,
   "metadata": {},
   "outputs": [],
   "source": [
    "parties = list(database.distinct(\"political_party\"))\n",
    "governments_per_party = {}\n",
    "for party in parties:\n",
    "    pipeline = [{'$match' : {'political_party':party}},\n",
    "                    {'$group':{'_id':'$government'}}]\n",
    "    governments = list(database.aggregate(pipeline))\n",
    "    governments_per_party[party] = governments"
   ]
  },
  {
   "cell_type": "code",
   "execution_count": 4,
   "metadata": {},
   "outputs": [
    {
     "name": "stdout",
     "output_type": "stream",
     "text": [
      "17\n"
     ]
    }
   ],
   "source": [
    "keys = list(governments_per_party.keys())\n",
    "print(keys.index('λαικος ορθοδοξος συναγερμος'))"
   ]
  },
  {
   "cell_type": "code",
   "execution_count": 5,
   "metadata": {},
   "outputs": [
    {
     "name": "stdout",
     "output_type": "stream",
     "text": [
      "λαικος ορθοδοξος συναγερμος\n"
     ]
    }
   ],
   "source": [
    "print(parties[17])"
   ]
  },
  {
   "cell_type": "code",
   "execution_count": 8,
   "metadata": {},
   "outputs": [
    {
     "name": "stdout",
     "output_type": "stream",
     "text": [
      "ανεξαρτητοι ελληνες - πανος καμμενος\n",
      "     ['παπαδημου λουκα δ.(11/11/2011-17/05/2012)']\n",
      "     ['σαμαρα κ. αντωνιου(21/06/2012-26/01/2015)']\n",
      "ανεξαρτητοι ελληνες εθνικη πατριωτικη δημοκρατικη συμμαχια\n",
      "     ['τσιπρα π. αλεξιου(26/01/2015-27/08/2015)']\n",
      "     ['τσιπρα π. αλεξιου(21/09/2015-08/07/2019)']\n",
      "αντιπολιτευση\n",
      "     ['καραμανλη α. κωνσταντινου(19/09/2007-07/10/2009)']\n",
      "     ['μητσοτακη κωνσταντινου(11/04/1990-13/10/1993)']\n",
      "βουλη\n",
      "     ['σημιτη κωνσταντινου(25/09/1996-13/04/2000)']\n",
      "     ['ζολωτα ξενοφωντα(23/11/1989-11/04/1990)']\n",
      "     ['τζαννετακη τζαννη(02/07/1989-12/10/1989)']\n",
      "     ['μητσοτακη κυριακου(08/07/2019-28/07/2020)']\n",
      "     ['τσιπρα π. αλεξιου(26/01/2015-27/08/2015)']\n",
      "     ['καραμανλη α. κωνσταντινου(10/03/2004-19/09/2007)']\n",
      "     ['παπανδρεου ανδρεα(13/10/1993-22/01/1996)']\n",
      "     ['παπαδημου λουκα δ.(11/11/2011-17/05/2012)']\n",
      "     ['καραμανλη α. κωνσταντινου(19/09/2007-07/10/2009)']\n",
      "     ['τσιπρα π. αλεξιου(21/09/2015-08/07/2019)']\n",
      "     ['σαμαρα κ. αντωνιου(21/06/2012-26/01/2015)']\n",
      "     ['σημιτη κωνσταντινου(13/04/2000-10/03/2004)']\n",
      "     ['μητσοτακη κωνσταντινου(11/04/1990-13/10/1993)']\n",
      "     ['παπανδρεου α. γεωργιου(06/10/2009-11/11/2011)']\n",
      "δημοκρατικη ανανεωση\n",
      "     ['μητσοτακη κωνσταντινου(11/04/1990-13/10/1993)']\n",
      "     ['τζαννετακη τζαννη(02/07/1989-12/10/1989)']\n",
      "δημοκρατικη αριστερα\n",
      "     ['παπαδημου λουκα δ.(11/11/2011-17/05/2012)']\n",
      "     ['σαμαρα κ. αντωνιου(21/06/2012-26/01/2015)']\n",
      "δημοκρατικη συμπαραταξη (πανελληνιο σοσιαλιστικο κινημα - δημοκρατικη αριστερα)\n",
      "     ['τσιπρα π. αλεξιου(21/09/2015-08/07/2019)']\n"
     ]
    }
   ],
   "source": [
    "party_sentiments_per_government = {}\n",
    "counter = 0\n",
    "#for each party\n",
    "for i in range(3, len(keys)):\n",
    "    print(parties[i])\n",
    "    party_sentiments_per_government[parties[i]] = {}\n",
    "    party_sentiments = {}\n",
    "    #for each government period the party is in the parliament\n",
    "    for government in governments_per_party[parties[i]]:\n",
    "        print(\"     \"+government['_id'])\n",
    "        #get speeches of party for that government\n",
    "        speeches = database.find({\"political_party\":parties[i], \"government\":government['_id']}, {\"_id\":1, \"speech\":1})\n",
    "        for speech in speeches:\n",
    "            results = main_emotion(speech['speech'], speech['_id'], indexes)\n",
    "            party_sentiments.update(results)\n",
    "            \n",
    "        #count sentiments of all speeches of a party in the specified government\n",
    "        sent_counter = {'surprise':0, 'happiness':0, 'anger':0, 'disgust':0, 'anger':0, 'fear':0, 'sadness':0}\n",
    "        for key in party_sentiments.keys():\n",
    "            if(party_sentiments[key][0]!='N/A'):\n",
    "                sent_counter[party_sentiments[key][0]] +=1 \n",
    "                \n",
    "        party_sentiments_per_government[parties[i]][government['_id']] = sent_counter\n",
    "        import pickle\n",
    "\n",
    "        with open('sentiments_per_party_per_government1.pickle', 'wb') as handle:\n",
    "            pickle.dump(party_sentiments_per_government, handle, protocol=pickle.HIGHEST_PROTOCOL)"
   ]
  },
  {
   "attachments": {},
   "cell_type": "markdown",
   "metadata": {},
   "source": [
    "### Plot result examples"
   ]
  },
  {
   "cell_type": "code",
   "execution_count": 1,
   "metadata": {},
   "outputs": [],
   "source": [
    "import pickle\n",
    "with open(\"sentiments_per_party_per_government1.pickle\", \"rb\") as input_file:\n",
    "    sentiments = pickle.load(input_file)"
   ]
  },
  {
   "cell_type": "code",
   "execution_count": 13,
   "metadata": {},
   "outputs": [
    {
     "name": "stdout",
     "output_type": "stream",
     "text": [
      "{\"['τσιπρα π. αλεξιου(26/01/2015-27/08/2015)']\": {'surprise': 149, 'happiness': 95, 'anger': 47, 'disgust': 10, 'fear': 2, 'sadness': 2}, \"['τσιπρα π. αλεξιου(21/09/2015-08/07/2019)']\": {'surprise': 874, 'happiness': 626, 'anger': 446, 'disgust': 45, 'fear': 16, 'sadness': 8}}\n"
     ]
    }
   ],
   "source": [
    "print(sentiments['ανεξαρτητοι ελληνες εθνικη πατριωτικη δημοκρατικη συμμαχια'])"
   ]
  },
  {
   "cell_type": "code",
   "execution_count": 11,
   "metadata": {},
   "outputs": [
    {
     "data": {
      "application/vnd.plotly.v1+json": {
       "config": {
        "plotlyServerURL": "https://plot.ly"
       },
       "data": [
        {
         "name": "surprise",
         "type": "bar",
         "x": [
          "['τσιπρα π. αλεξιου(26/01/2015-27/08/2015)']",
          "['τσιπρα π. αλεξιου(21/09/2015-08/07/2019)']"
         ],
         "y": [
          149,
          874
         ]
        },
        {
         "name": "happines",
         "type": "bar",
         "x": [
          "['τσιπρα π. αλεξιου(26/01/2015-27/08/2015)']",
          "['τσιπρα π. αλεξιου(21/09/2015-08/07/2019)']"
         ],
         "y": [
          95,
          626
         ]
        },
        {
         "name": "anger",
         "type": "bar",
         "x": [
          "['τσιπρα π. αλεξιου(26/01/2015-27/08/2015)']",
          "['τσιπρα π. αλεξιου(21/09/2015-08/07/2019)']"
         ],
         "y": [
          47,
          446
         ]
        },
        {
         "name": "disgust",
         "type": "bar",
         "x": [
          "['τσιπρα π. αλεξιου(26/01/2015-27/08/2015)']",
          "['τσιπρα π. αλεξιου(21/09/2015-08/07/2019)']"
         ],
         "y": [
          10,
          45
         ]
        },
        {
         "name": "fear",
         "type": "bar",
         "x": [
          "['τσιπρα π. αλεξιου(26/01/2015-27/08/2015)']",
          "['τσιπρα π. αλεξιου(21/09/2015-08/07/2019)']"
         ],
         "y": [
          2,
          16
         ]
        },
        {
         "name": "sadness",
         "type": "bar",
         "x": [
          "['τσιπρα π. αλεξιου(26/01/2015-27/08/2015)']",
          "['τσιπρα π. αλεξιου(21/09/2015-08/07/2019)']"
         ],
         "y": [
          2,
          8
         ]
        }
       ],
       "layout": {
        "barmode": "group",
        "template": {
         "data": {
          "bar": [
           {
            "error_x": {
             "color": "#2a3f5f"
            },
            "error_y": {
             "color": "#2a3f5f"
            },
            "marker": {
             "line": {
              "color": "#E5ECF6",
              "width": 0.5
             },
             "pattern": {
              "fillmode": "overlay",
              "size": 10,
              "solidity": 0.2
             }
            },
            "type": "bar"
           }
          ],
          "barpolar": [
           {
            "marker": {
             "line": {
              "color": "#E5ECF6",
              "width": 0.5
             },
             "pattern": {
              "fillmode": "overlay",
              "size": 10,
              "solidity": 0.2
             }
            },
            "type": "barpolar"
           }
          ],
          "carpet": [
           {
            "aaxis": {
             "endlinecolor": "#2a3f5f",
             "gridcolor": "white",
             "linecolor": "white",
             "minorgridcolor": "white",
             "startlinecolor": "#2a3f5f"
            },
            "baxis": {
             "endlinecolor": "#2a3f5f",
             "gridcolor": "white",
             "linecolor": "white",
             "minorgridcolor": "white",
             "startlinecolor": "#2a3f5f"
            },
            "type": "carpet"
           }
          ],
          "choropleth": [
           {
            "colorbar": {
             "outlinewidth": 0,
             "ticks": ""
            },
            "type": "choropleth"
           }
          ],
          "contour": [
           {
            "colorbar": {
             "outlinewidth": 0,
             "ticks": ""
            },
            "colorscale": [
             [
              0,
              "#0d0887"
             ],
             [
              0.1111111111111111,
              "#46039f"
             ],
             [
              0.2222222222222222,
              "#7201a8"
             ],
             [
              0.3333333333333333,
              "#9c179e"
             ],
             [
              0.4444444444444444,
              "#bd3786"
             ],
             [
              0.5555555555555556,
              "#d8576b"
             ],
             [
              0.6666666666666666,
              "#ed7953"
             ],
             [
              0.7777777777777778,
              "#fb9f3a"
             ],
             [
              0.8888888888888888,
              "#fdca26"
             ],
             [
              1,
              "#f0f921"
             ]
            ],
            "type": "contour"
           }
          ],
          "contourcarpet": [
           {
            "colorbar": {
             "outlinewidth": 0,
             "ticks": ""
            },
            "type": "contourcarpet"
           }
          ],
          "heatmap": [
           {
            "colorbar": {
             "outlinewidth": 0,
             "ticks": ""
            },
            "colorscale": [
             [
              0,
              "#0d0887"
             ],
             [
              0.1111111111111111,
              "#46039f"
             ],
             [
              0.2222222222222222,
              "#7201a8"
             ],
             [
              0.3333333333333333,
              "#9c179e"
             ],
             [
              0.4444444444444444,
              "#bd3786"
             ],
             [
              0.5555555555555556,
              "#d8576b"
             ],
             [
              0.6666666666666666,
              "#ed7953"
             ],
             [
              0.7777777777777778,
              "#fb9f3a"
             ],
             [
              0.8888888888888888,
              "#fdca26"
             ],
             [
              1,
              "#f0f921"
             ]
            ],
            "type": "heatmap"
           }
          ],
          "heatmapgl": [
           {
            "colorbar": {
             "outlinewidth": 0,
             "ticks": ""
            },
            "colorscale": [
             [
              0,
              "#0d0887"
             ],
             [
              0.1111111111111111,
              "#46039f"
             ],
             [
              0.2222222222222222,
              "#7201a8"
             ],
             [
              0.3333333333333333,
              "#9c179e"
             ],
             [
              0.4444444444444444,
              "#bd3786"
             ],
             [
              0.5555555555555556,
              "#d8576b"
             ],
             [
              0.6666666666666666,
              "#ed7953"
             ],
             [
              0.7777777777777778,
              "#fb9f3a"
             ],
             [
              0.8888888888888888,
              "#fdca26"
             ],
             [
              1,
              "#f0f921"
             ]
            ],
            "type": "heatmapgl"
           }
          ],
          "histogram": [
           {
            "marker": {
             "pattern": {
              "fillmode": "overlay",
              "size": 10,
              "solidity": 0.2
             }
            },
            "type": "histogram"
           }
          ],
          "histogram2d": [
           {
            "colorbar": {
             "outlinewidth": 0,
             "ticks": ""
            },
            "colorscale": [
             [
              0,
              "#0d0887"
             ],
             [
              0.1111111111111111,
              "#46039f"
             ],
             [
              0.2222222222222222,
              "#7201a8"
             ],
             [
              0.3333333333333333,
              "#9c179e"
             ],
             [
              0.4444444444444444,
              "#bd3786"
             ],
             [
              0.5555555555555556,
              "#d8576b"
             ],
             [
              0.6666666666666666,
              "#ed7953"
             ],
             [
              0.7777777777777778,
              "#fb9f3a"
             ],
             [
              0.8888888888888888,
              "#fdca26"
             ],
             [
              1,
              "#f0f921"
             ]
            ],
            "type": "histogram2d"
           }
          ],
          "histogram2dcontour": [
           {
            "colorbar": {
             "outlinewidth": 0,
             "ticks": ""
            },
            "colorscale": [
             [
              0,
              "#0d0887"
             ],
             [
              0.1111111111111111,
              "#46039f"
             ],
             [
              0.2222222222222222,
              "#7201a8"
             ],
             [
              0.3333333333333333,
              "#9c179e"
             ],
             [
              0.4444444444444444,
              "#bd3786"
             ],
             [
              0.5555555555555556,
              "#d8576b"
             ],
             [
              0.6666666666666666,
              "#ed7953"
             ],
             [
              0.7777777777777778,
              "#fb9f3a"
             ],
             [
              0.8888888888888888,
              "#fdca26"
             ],
             [
              1,
              "#f0f921"
             ]
            ],
            "type": "histogram2dcontour"
           }
          ],
          "mesh3d": [
           {
            "colorbar": {
             "outlinewidth": 0,
             "ticks": ""
            },
            "type": "mesh3d"
           }
          ],
          "parcoords": [
           {
            "line": {
             "colorbar": {
              "outlinewidth": 0,
              "ticks": ""
             }
            },
            "type": "parcoords"
           }
          ],
          "pie": [
           {
            "automargin": true,
            "type": "pie"
           }
          ],
          "scatter": [
           {
            "fillpattern": {
             "fillmode": "overlay",
             "size": 10,
             "solidity": 0.2
            },
            "type": "scatter"
           }
          ],
          "scatter3d": [
           {
            "line": {
             "colorbar": {
              "outlinewidth": 0,
              "ticks": ""
             }
            },
            "marker": {
             "colorbar": {
              "outlinewidth": 0,
              "ticks": ""
             }
            },
            "type": "scatter3d"
           }
          ],
          "scattercarpet": [
           {
            "marker": {
             "colorbar": {
              "outlinewidth": 0,
              "ticks": ""
             }
            },
            "type": "scattercarpet"
           }
          ],
          "scattergeo": [
           {
            "marker": {
             "colorbar": {
              "outlinewidth": 0,
              "ticks": ""
             }
            },
            "type": "scattergeo"
           }
          ],
          "scattergl": [
           {
            "marker": {
             "colorbar": {
              "outlinewidth": 0,
              "ticks": ""
             }
            },
            "type": "scattergl"
           }
          ],
          "scattermapbox": [
           {
            "marker": {
             "colorbar": {
              "outlinewidth": 0,
              "ticks": ""
             }
            },
            "type": "scattermapbox"
           }
          ],
          "scatterpolar": [
           {
            "marker": {
             "colorbar": {
              "outlinewidth": 0,
              "ticks": ""
             }
            },
            "type": "scatterpolar"
           }
          ],
          "scatterpolargl": [
           {
            "marker": {
             "colorbar": {
              "outlinewidth": 0,
              "ticks": ""
             }
            },
            "type": "scatterpolargl"
           }
          ],
          "scatterternary": [
           {
            "marker": {
             "colorbar": {
              "outlinewidth": 0,
              "ticks": ""
             }
            },
            "type": "scatterternary"
           }
          ],
          "surface": [
           {
            "colorbar": {
             "outlinewidth": 0,
             "ticks": ""
            },
            "colorscale": [
             [
              0,
              "#0d0887"
             ],
             [
              0.1111111111111111,
              "#46039f"
             ],
             [
              0.2222222222222222,
              "#7201a8"
             ],
             [
              0.3333333333333333,
              "#9c179e"
             ],
             [
              0.4444444444444444,
              "#bd3786"
             ],
             [
              0.5555555555555556,
              "#d8576b"
             ],
             [
              0.6666666666666666,
              "#ed7953"
             ],
             [
              0.7777777777777778,
              "#fb9f3a"
             ],
             [
              0.8888888888888888,
              "#fdca26"
             ],
             [
              1,
              "#f0f921"
             ]
            ],
            "type": "surface"
           }
          ],
          "table": [
           {
            "cells": {
             "fill": {
              "color": "#EBF0F8"
             },
             "line": {
              "color": "white"
             }
            },
            "header": {
             "fill": {
              "color": "#C8D4E3"
             },
             "line": {
              "color": "white"
             }
            },
            "type": "table"
           }
          ]
         },
         "layout": {
          "annotationdefaults": {
           "arrowcolor": "#2a3f5f",
           "arrowhead": 0,
           "arrowwidth": 1
          },
          "autotypenumbers": "strict",
          "coloraxis": {
           "colorbar": {
            "outlinewidth": 0,
            "ticks": ""
           }
          },
          "colorscale": {
           "diverging": [
            [
             0,
             "#8e0152"
            ],
            [
             0.1,
             "#c51b7d"
            ],
            [
             0.2,
             "#de77ae"
            ],
            [
             0.3,
             "#f1b6da"
            ],
            [
             0.4,
             "#fde0ef"
            ],
            [
             0.5,
             "#f7f7f7"
            ],
            [
             0.6,
             "#e6f5d0"
            ],
            [
             0.7,
             "#b8e186"
            ],
            [
             0.8,
             "#7fbc41"
            ],
            [
             0.9,
             "#4d9221"
            ],
            [
             1,
             "#276419"
            ]
           ],
           "sequential": [
            [
             0,
             "#0d0887"
            ],
            [
             0.1111111111111111,
             "#46039f"
            ],
            [
             0.2222222222222222,
             "#7201a8"
            ],
            [
             0.3333333333333333,
             "#9c179e"
            ],
            [
             0.4444444444444444,
             "#bd3786"
            ],
            [
             0.5555555555555556,
             "#d8576b"
            ],
            [
             0.6666666666666666,
             "#ed7953"
            ],
            [
             0.7777777777777778,
             "#fb9f3a"
            ],
            [
             0.8888888888888888,
             "#fdca26"
            ],
            [
             1,
             "#f0f921"
            ]
           ],
           "sequentialminus": [
            [
             0,
             "#0d0887"
            ],
            [
             0.1111111111111111,
             "#46039f"
            ],
            [
             0.2222222222222222,
             "#7201a8"
            ],
            [
             0.3333333333333333,
             "#9c179e"
            ],
            [
             0.4444444444444444,
             "#bd3786"
            ],
            [
             0.5555555555555556,
             "#d8576b"
            ],
            [
             0.6666666666666666,
             "#ed7953"
            ],
            [
             0.7777777777777778,
             "#fb9f3a"
            ],
            [
             0.8888888888888888,
             "#fdca26"
            ],
            [
             1,
             "#f0f921"
            ]
           ]
          },
          "colorway": [
           "#636efa",
           "#EF553B",
           "#00cc96",
           "#ab63fa",
           "#FFA15A",
           "#19d3f3",
           "#FF6692",
           "#B6E880",
           "#FF97FF",
           "#FECB52"
          ],
          "font": {
           "color": "#2a3f5f"
          },
          "geo": {
           "bgcolor": "white",
           "lakecolor": "white",
           "landcolor": "#E5ECF6",
           "showlakes": true,
           "showland": true,
           "subunitcolor": "white"
          },
          "hoverlabel": {
           "align": "left"
          },
          "hovermode": "closest",
          "mapbox": {
           "style": "light"
          },
          "paper_bgcolor": "white",
          "plot_bgcolor": "#E5ECF6",
          "polar": {
           "angularaxis": {
            "gridcolor": "white",
            "linecolor": "white",
            "ticks": ""
           },
           "bgcolor": "#E5ECF6",
           "radialaxis": {
            "gridcolor": "white",
            "linecolor": "white",
            "ticks": ""
           }
          },
          "scene": {
           "xaxis": {
            "backgroundcolor": "#E5ECF6",
            "gridcolor": "white",
            "gridwidth": 2,
            "linecolor": "white",
            "showbackground": true,
            "ticks": "",
            "zerolinecolor": "white"
           },
           "yaxis": {
            "backgroundcolor": "#E5ECF6",
            "gridcolor": "white",
            "gridwidth": 2,
            "linecolor": "white",
            "showbackground": true,
            "ticks": "",
            "zerolinecolor": "white"
           },
           "zaxis": {
            "backgroundcolor": "#E5ECF6",
            "gridcolor": "white",
            "gridwidth": 2,
            "linecolor": "white",
            "showbackground": true,
            "ticks": "",
            "zerolinecolor": "white"
           }
          },
          "shapedefaults": {
           "line": {
            "color": "#2a3f5f"
           }
          },
          "ternary": {
           "aaxis": {
            "gridcolor": "white",
            "linecolor": "white",
            "ticks": ""
           },
           "baxis": {
            "gridcolor": "white",
            "linecolor": "white",
            "ticks": ""
           },
           "bgcolor": "#E5ECF6",
           "caxis": {
            "gridcolor": "white",
            "linecolor": "white",
            "ticks": ""
           }
          },
          "title": {
           "x": 0.05
          },
          "xaxis": {
           "automargin": true,
           "gridcolor": "white",
           "linecolor": "white",
           "ticks": "",
           "title": {
            "standoff": 15
           },
           "zerolinecolor": "white",
           "zerolinewidth": 2
          },
          "yaxis": {
           "automargin": true,
           "gridcolor": "white",
           "linecolor": "white",
           "ticks": "",
           "title": {
            "standoff": 15
           },
           "zerolinecolor": "white",
           "zerolinewidth": 2
          }
         }
        }
       }
      }
     },
     "metadata": {},
     "output_type": "display_data"
    }
   ],
   "source": [
    "vals = sentiments['ανεξαρτητοι ελληνες εθνικη πατριωτικη δημοκρατικη συμμαχια'].values()\n",
    "y = []\n",
    "for val in vals:\n",
    "    y.append(list(val.values()))\n",
    "import plotly.graph_objects as go\n",
    "gov = list(sentiments['ανεξαρτητοι ελληνες εθνικη πατριωτικη δημοκρατικη συμμαχια'].keys())\n",
    "vals = sentiments['ανεξαρτητοι ελληνες εθνικη πατριωτικη δημοκρατικη συμμαχια'].values()\n",
    "fig = go.Figure(data=[\n",
    "    go.Bar(name='surprise', x=gov, y=[y[0][0],y[1][0]]),\n",
    "    go.Bar(name='happines', x=gov, y=[y[0][1],y[1][1]]),\n",
    "    go.Bar(name='anger', x=gov, y=[y[0][2],y[1][2]]),\n",
    "    go.Bar(name='disgust', x=gov, y=[y[0][3],y[1][3]]),\n",
    "    go.Bar(name='fear', x=gov, y=[y[0][4],y[1][4]]),\n",
    "    go.Bar(name='sadness', x=gov, y=[y[0][5],y[1][5]]),\n",
    "])\n",
    "# Change the bar mode\n",
    "fig.update_layout(barmode='group')\n",
    "fig.show()"
   ]
  },
  {
   "cell_type": "code",
   "execution_count": 12,
   "metadata": {},
   "outputs": [],
   "source": [
    "vals = sentiments['δημοκρατικη ανανεωση'].values()\n",
    "y = []\n",
    "for val in vals:\n",
    "    y.append(list(val.values()))"
   ]
  },
  {
   "cell_type": "code",
   "execution_count": 7,
   "metadata": {},
   "outputs": [
    {
     "data": {
      "application/vnd.plotly.v1+json": {
       "config": {
        "plotlyServerURL": "https://plot.ly"
       },
       "data": [
        {
         "name": "surprise",
         "type": "bar",
         "x": [
          "['μητσοτακη κωνσταντινου(11/04/1990-13/10/1993)']",
          "['τζαννετακη τζαννη(02/07/1989-12/10/1989)']"
         ],
         "y": [
          2,
          28
         ]
        },
        {
         "name": "happines",
         "type": "bar",
         "x": [
          "['μητσοτακη κωνσταντινου(11/04/1990-13/10/1993)']",
          "['τζαννετακη τζαννη(02/07/1989-12/10/1989)']"
         ],
         "y": [
          1,
          13
         ]
        },
        {
         "name": "anger",
         "type": "bar",
         "x": [
          "['μητσοτακη κωνσταντινου(11/04/1990-13/10/1993)']",
          "['τζαννετακη τζαννη(02/07/1989-12/10/1989)']"
         ],
         "y": [
          0,
          10
         ]
        },
        {
         "name": "disgust",
         "type": "bar",
         "x": [
          "['μητσοτακη κωνσταντινου(11/04/1990-13/10/1993)']",
          "['τζαννετακη τζαννη(02/07/1989-12/10/1989)']"
         ],
         "y": [
          0,
          3
         ]
        },
        {
         "name": "fear",
         "type": "bar",
         "x": [
          "['μητσοτακη κωνσταντινου(11/04/1990-13/10/1993)']",
          "['τζαννετακη τζαννη(02/07/1989-12/10/1989)']"
         ],
         "y": [
          0,
          0
         ]
        },
        {
         "name": "sadness",
         "type": "bar",
         "x": [
          "['μητσοτακη κωνσταντινου(11/04/1990-13/10/1993)']",
          "['τζαννετακη τζαννη(02/07/1989-12/10/1989)']"
         ],
         "y": [
          0,
          1
         ]
        }
       ],
       "layout": {
        "barmode": "group",
        "template": {
         "data": {
          "bar": [
           {
            "error_x": {
             "color": "#2a3f5f"
            },
            "error_y": {
             "color": "#2a3f5f"
            },
            "marker": {
             "line": {
              "color": "#E5ECF6",
              "width": 0.5
             },
             "pattern": {
              "fillmode": "overlay",
              "size": 10,
              "solidity": 0.2
             }
            },
            "type": "bar"
           }
          ],
          "barpolar": [
           {
            "marker": {
             "line": {
              "color": "#E5ECF6",
              "width": 0.5
             },
             "pattern": {
              "fillmode": "overlay",
              "size": 10,
              "solidity": 0.2
             }
            },
            "type": "barpolar"
           }
          ],
          "carpet": [
           {
            "aaxis": {
             "endlinecolor": "#2a3f5f",
             "gridcolor": "white",
             "linecolor": "white",
             "minorgridcolor": "white",
             "startlinecolor": "#2a3f5f"
            },
            "baxis": {
             "endlinecolor": "#2a3f5f",
             "gridcolor": "white",
             "linecolor": "white",
             "minorgridcolor": "white",
             "startlinecolor": "#2a3f5f"
            },
            "type": "carpet"
           }
          ],
          "choropleth": [
           {
            "colorbar": {
             "outlinewidth": 0,
             "ticks": ""
            },
            "type": "choropleth"
           }
          ],
          "contour": [
           {
            "colorbar": {
             "outlinewidth": 0,
             "ticks": ""
            },
            "colorscale": [
             [
              0,
              "#0d0887"
             ],
             [
              0.1111111111111111,
              "#46039f"
             ],
             [
              0.2222222222222222,
              "#7201a8"
             ],
             [
              0.3333333333333333,
              "#9c179e"
             ],
             [
              0.4444444444444444,
              "#bd3786"
             ],
             [
              0.5555555555555556,
              "#d8576b"
             ],
             [
              0.6666666666666666,
              "#ed7953"
             ],
             [
              0.7777777777777778,
              "#fb9f3a"
             ],
             [
              0.8888888888888888,
              "#fdca26"
             ],
             [
              1,
              "#f0f921"
             ]
            ],
            "type": "contour"
           }
          ],
          "contourcarpet": [
           {
            "colorbar": {
             "outlinewidth": 0,
             "ticks": ""
            },
            "type": "contourcarpet"
           }
          ],
          "heatmap": [
           {
            "colorbar": {
             "outlinewidth": 0,
             "ticks": ""
            },
            "colorscale": [
             [
              0,
              "#0d0887"
             ],
             [
              0.1111111111111111,
              "#46039f"
             ],
             [
              0.2222222222222222,
              "#7201a8"
             ],
             [
              0.3333333333333333,
              "#9c179e"
             ],
             [
              0.4444444444444444,
              "#bd3786"
             ],
             [
              0.5555555555555556,
              "#d8576b"
             ],
             [
              0.6666666666666666,
              "#ed7953"
             ],
             [
              0.7777777777777778,
              "#fb9f3a"
             ],
             [
              0.8888888888888888,
              "#fdca26"
             ],
             [
              1,
              "#f0f921"
             ]
            ],
            "type": "heatmap"
           }
          ],
          "heatmapgl": [
           {
            "colorbar": {
             "outlinewidth": 0,
             "ticks": ""
            },
            "colorscale": [
             [
              0,
              "#0d0887"
             ],
             [
              0.1111111111111111,
              "#46039f"
             ],
             [
              0.2222222222222222,
              "#7201a8"
             ],
             [
              0.3333333333333333,
              "#9c179e"
             ],
             [
              0.4444444444444444,
              "#bd3786"
             ],
             [
              0.5555555555555556,
              "#d8576b"
             ],
             [
              0.6666666666666666,
              "#ed7953"
             ],
             [
              0.7777777777777778,
              "#fb9f3a"
             ],
             [
              0.8888888888888888,
              "#fdca26"
             ],
             [
              1,
              "#f0f921"
             ]
            ],
            "type": "heatmapgl"
           }
          ],
          "histogram": [
           {
            "marker": {
             "pattern": {
              "fillmode": "overlay",
              "size": 10,
              "solidity": 0.2
             }
            },
            "type": "histogram"
           }
          ],
          "histogram2d": [
           {
            "colorbar": {
             "outlinewidth": 0,
             "ticks": ""
            },
            "colorscale": [
             [
              0,
              "#0d0887"
             ],
             [
              0.1111111111111111,
              "#46039f"
             ],
             [
              0.2222222222222222,
              "#7201a8"
             ],
             [
              0.3333333333333333,
              "#9c179e"
             ],
             [
              0.4444444444444444,
              "#bd3786"
             ],
             [
              0.5555555555555556,
              "#d8576b"
             ],
             [
              0.6666666666666666,
              "#ed7953"
             ],
             [
              0.7777777777777778,
              "#fb9f3a"
             ],
             [
              0.8888888888888888,
              "#fdca26"
             ],
             [
              1,
              "#f0f921"
             ]
            ],
            "type": "histogram2d"
           }
          ],
          "histogram2dcontour": [
           {
            "colorbar": {
             "outlinewidth": 0,
             "ticks": ""
            },
            "colorscale": [
             [
              0,
              "#0d0887"
             ],
             [
              0.1111111111111111,
              "#46039f"
             ],
             [
              0.2222222222222222,
              "#7201a8"
             ],
             [
              0.3333333333333333,
              "#9c179e"
             ],
             [
              0.4444444444444444,
              "#bd3786"
             ],
             [
              0.5555555555555556,
              "#d8576b"
             ],
             [
              0.6666666666666666,
              "#ed7953"
             ],
             [
              0.7777777777777778,
              "#fb9f3a"
             ],
             [
              0.8888888888888888,
              "#fdca26"
             ],
             [
              1,
              "#f0f921"
             ]
            ],
            "type": "histogram2dcontour"
           }
          ],
          "mesh3d": [
           {
            "colorbar": {
             "outlinewidth": 0,
             "ticks": ""
            },
            "type": "mesh3d"
           }
          ],
          "parcoords": [
           {
            "line": {
             "colorbar": {
              "outlinewidth": 0,
              "ticks": ""
             }
            },
            "type": "parcoords"
           }
          ],
          "pie": [
           {
            "automargin": true,
            "type": "pie"
           }
          ],
          "scatter": [
           {
            "fillpattern": {
             "fillmode": "overlay",
             "size": 10,
             "solidity": 0.2
            },
            "type": "scatter"
           }
          ],
          "scatter3d": [
           {
            "line": {
             "colorbar": {
              "outlinewidth": 0,
              "ticks": ""
             }
            },
            "marker": {
             "colorbar": {
              "outlinewidth": 0,
              "ticks": ""
             }
            },
            "type": "scatter3d"
           }
          ],
          "scattercarpet": [
           {
            "marker": {
             "colorbar": {
              "outlinewidth": 0,
              "ticks": ""
             }
            },
            "type": "scattercarpet"
           }
          ],
          "scattergeo": [
           {
            "marker": {
             "colorbar": {
              "outlinewidth": 0,
              "ticks": ""
             }
            },
            "type": "scattergeo"
           }
          ],
          "scattergl": [
           {
            "marker": {
             "colorbar": {
              "outlinewidth": 0,
              "ticks": ""
             }
            },
            "type": "scattergl"
           }
          ],
          "scattermapbox": [
           {
            "marker": {
             "colorbar": {
              "outlinewidth": 0,
              "ticks": ""
             }
            },
            "type": "scattermapbox"
           }
          ],
          "scatterpolar": [
           {
            "marker": {
             "colorbar": {
              "outlinewidth": 0,
              "ticks": ""
             }
            },
            "type": "scatterpolar"
           }
          ],
          "scatterpolargl": [
           {
            "marker": {
             "colorbar": {
              "outlinewidth": 0,
              "ticks": ""
             }
            },
            "type": "scatterpolargl"
           }
          ],
          "scatterternary": [
           {
            "marker": {
             "colorbar": {
              "outlinewidth": 0,
              "ticks": ""
             }
            },
            "type": "scatterternary"
           }
          ],
          "surface": [
           {
            "colorbar": {
             "outlinewidth": 0,
             "ticks": ""
            },
            "colorscale": [
             [
              0,
              "#0d0887"
             ],
             [
              0.1111111111111111,
              "#46039f"
             ],
             [
              0.2222222222222222,
              "#7201a8"
             ],
             [
              0.3333333333333333,
              "#9c179e"
             ],
             [
              0.4444444444444444,
              "#bd3786"
             ],
             [
              0.5555555555555556,
              "#d8576b"
             ],
             [
              0.6666666666666666,
              "#ed7953"
             ],
             [
              0.7777777777777778,
              "#fb9f3a"
             ],
             [
              0.8888888888888888,
              "#fdca26"
             ],
             [
              1,
              "#f0f921"
             ]
            ],
            "type": "surface"
           }
          ],
          "table": [
           {
            "cells": {
             "fill": {
              "color": "#EBF0F8"
             },
             "line": {
              "color": "white"
             }
            },
            "header": {
             "fill": {
              "color": "#C8D4E3"
             },
             "line": {
              "color": "white"
             }
            },
            "type": "table"
           }
          ]
         },
         "layout": {
          "annotationdefaults": {
           "arrowcolor": "#2a3f5f",
           "arrowhead": 0,
           "arrowwidth": 1
          },
          "autotypenumbers": "strict",
          "coloraxis": {
           "colorbar": {
            "outlinewidth": 0,
            "ticks": ""
           }
          },
          "colorscale": {
           "diverging": [
            [
             0,
             "#8e0152"
            ],
            [
             0.1,
             "#c51b7d"
            ],
            [
             0.2,
             "#de77ae"
            ],
            [
             0.3,
             "#f1b6da"
            ],
            [
             0.4,
             "#fde0ef"
            ],
            [
             0.5,
             "#f7f7f7"
            ],
            [
             0.6,
             "#e6f5d0"
            ],
            [
             0.7,
             "#b8e186"
            ],
            [
             0.8,
             "#7fbc41"
            ],
            [
             0.9,
             "#4d9221"
            ],
            [
             1,
             "#276419"
            ]
           ],
           "sequential": [
            [
             0,
             "#0d0887"
            ],
            [
             0.1111111111111111,
             "#46039f"
            ],
            [
             0.2222222222222222,
             "#7201a8"
            ],
            [
             0.3333333333333333,
             "#9c179e"
            ],
            [
             0.4444444444444444,
             "#bd3786"
            ],
            [
             0.5555555555555556,
             "#d8576b"
            ],
            [
             0.6666666666666666,
             "#ed7953"
            ],
            [
             0.7777777777777778,
             "#fb9f3a"
            ],
            [
             0.8888888888888888,
             "#fdca26"
            ],
            [
             1,
             "#f0f921"
            ]
           ],
           "sequentialminus": [
            [
             0,
             "#0d0887"
            ],
            [
             0.1111111111111111,
             "#46039f"
            ],
            [
             0.2222222222222222,
             "#7201a8"
            ],
            [
             0.3333333333333333,
             "#9c179e"
            ],
            [
             0.4444444444444444,
             "#bd3786"
            ],
            [
             0.5555555555555556,
             "#d8576b"
            ],
            [
             0.6666666666666666,
             "#ed7953"
            ],
            [
             0.7777777777777778,
             "#fb9f3a"
            ],
            [
             0.8888888888888888,
             "#fdca26"
            ],
            [
             1,
             "#f0f921"
            ]
           ]
          },
          "colorway": [
           "#636efa",
           "#EF553B",
           "#00cc96",
           "#ab63fa",
           "#FFA15A",
           "#19d3f3",
           "#FF6692",
           "#B6E880",
           "#FF97FF",
           "#FECB52"
          ],
          "font": {
           "color": "#2a3f5f"
          },
          "geo": {
           "bgcolor": "white",
           "lakecolor": "white",
           "landcolor": "#E5ECF6",
           "showlakes": true,
           "showland": true,
           "subunitcolor": "white"
          },
          "hoverlabel": {
           "align": "left"
          },
          "hovermode": "closest",
          "mapbox": {
           "style": "light"
          },
          "paper_bgcolor": "white",
          "plot_bgcolor": "#E5ECF6",
          "polar": {
           "angularaxis": {
            "gridcolor": "white",
            "linecolor": "white",
            "ticks": ""
           },
           "bgcolor": "#E5ECF6",
           "radialaxis": {
            "gridcolor": "white",
            "linecolor": "white",
            "ticks": ""
           }
          },
          "scene": {
           "xaxis": {
            "backgroundcolor": "#E5ECF6",
            "gridcolor": "white",
            "gridwidth": 2,
            "linecolor": "white",
            "showbackground": true,
            "ticks": "",
            "zerolinecolor": "white"
           },
           "yaxis": {
            "backgroundcolor": "#E5ECF6",
            "gridcolor": "white",
            "gridwidth": 2,
            "linecolor": "white",
            "showbackground": true,
            "ticks": "",
            "zerolinecolor": "white"
           },
           "zaxis": {
            "backgroundcolor": "#E5ECF6",
            "gridcolor": "white",
            "gridwidth": 2,
            "linecolor": "white",
            "showbackground": true,
            "ticks": "",
            "zerolinecolor": "white"
           }
          },
          "shapedefaults": {
           "line": {
            "color": "#2a3f5f"
           }
          },
          "ternary": {
           "aaxis": {
            "gridcolor": "white",
            "linecolor": "white",
            "ticks": ""
           },
           "baxis": {
            "gridcolor": "white",
            "linecolor": "white",
            "ticks": ""
           },
           "bgcolor": "#E5ECF6",
           "caxis": {
            "gridcolor": "white",
            "linecolor": "white",
            "ticks": ""
           }
          },
          "title": {
           "x": 0.05
          },
          "xaxis": {
           "automargin": true,
           "gridcolor": "white",
           "linecolor": "white",
           "ticks": "",
           "title": {
            "standoff": 15
           },
           "zerolinecolor": "white",
           "zerolinewidth": 2
          },
          "yaxis": {
           "automargin": true,
           "gridcolor": "white",
           "linecolor": "white",
           "ticks": "",
           "title": {
            "standoff": 15
           },
           "zerolinecolor": "white",
           "zerolinewidth": 2
          }
         }
        }
       }
      }
     },
     "metadata": {},
     "output_type": "display_data"
    }
   ],
   "source": [
    "import plotly.graph_objects as go\n",
    "gov = list(sentiments['δημοκρατικη ανανεωση'].keys())\n",
    "vals = sentiments['δημοκρατικη ανανεωση'].values()\n",
    "fig = go.Figure(data=[\n",
    "    go.Bar(name='surprise', x=gov, y=[y[0][0],y[1][0]]),\n",
    "    go.Bar(name='happines', x=gov, y=[y[0][1],y[1][1]]),\n",
    "    go.Bar(name='anger', x=gov, y=[y[0][2],y[1][2]]),\n",
    "    go.Bar(name='disgust', x=gov, y=[y[0][3],y[1][3]]),\n",
    "    go.Bar(name='fear', x=gov, y=[y[0][4],y[1][4]]),\n",
    "    go.Bar(name='sadness', x=gov, y=[y[0][5],y[1][5]]),\n",
    "])\n",
    "# Change the bar mode\n",
    "fig.update_layout(barmode='group')\n",
    "fig.show()"
   ]
  }
 ],
 "metadata": {
  "kernelspec": {
   "display_name": "Python 3",
   "language": "python",
   "name": "python3"
  },
  "language_info": {
   "codemirror_mode": {
    "name": "ipython",
    "version": 3
   },
   "file_extension": ".py",
   "mimetype": "text/x-python",
   "name": "python",
   "nbconvert_exporter": "python",
   "pygments_lexer": "ipython3",
   "version": "3.7.0"
  },
  "orig_nbformat": 4,
  "vscode": {
   "interpreter": {
    "hash": "dc171fef984f5b79f14e12a568666bc6f1da4d6ba470774f0793d526d68a01d2"
   }
  }
 },
 "nbformat": 4,
 "nbformat_minor": 2
}
