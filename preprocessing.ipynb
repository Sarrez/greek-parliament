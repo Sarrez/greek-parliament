{
 "cells": [
  {
   "cell_type": "code",
   "execution_count": 2,
   "metadata": {},
   "outputs": [],
   "source": [
    "from nltk.corpus import stopwords\n",
    "from nltk.tokenize import sent_tokenize, word_tokenize\n",
    "import string "
   ]
  },
  {
   "cell_type": "code",
   "execution_count": 4,
   "metadata": {},
   "outputs": [
    {
     "name": "stderr",
     "output_type": "stream",
     "text": [
      "c:\\ProgramData\\Anaconda3\\lib\\site-packages\\greek_stemmer\\__init__.py:340: YAMLLoadWarning: calling yaml.load() without Loader=... is deprecated, as the default Loader is unsafe. Please read https://msg.pyyaml.org/load for full details.\n",
      "  custom_rules = yaml.load(f.read())\n"
     ]
    }
   ],
   "source": [
    "# add encoding=\"utf8\" at line 339\n",
    "from greek_stemmer import GreekStemmer\n",
    "stemmer = GreekStemmer()\n",
    "word = stemmer.stem('ΤΡΕΧΟΥΜΕ')"
   ]
  },
  {
   "cell_type": "code",
   "execution_count": 13,
   "metadata": {},
   "outputs": [
    {
     "name": "stdout",
     "output_type": "stream",
     "text": [
      "['ο', 'η', 'το', 'οι', 'τα', 'του', 'τον', 'το', 'τη', 'την', 'της', 'τους', 'και', 'μα', 'αλλα', 'ως', 'οταν', 'αν', 'στην', 'στους', 'στη', 'στο', 'στα', 'κ']\n"
     ]
    }
   ],
   "source": [
    "# load stopwords\n",
    "with open('stopwords.txt', encoding='utf-8') as file:\n",
    "    stopwords = [line.rstrip() for line in file]\n",
    "print(stopwords)"
   ]
  },
  {
   "cell_type": "code",
   "execution_count": 17,
   "metadata": {},
   "outputs": [
    {
     "name": "stdout",
     "output_type": "stream",
     "text": [
      "['τρ', 'τίγρεις', 'τρία', 'τιγράκια']\n"
     ]
    }
   ],
   "source": [
    "def preprocess_doc(doc: str) -> list:\n",
    "    if doc!=\"\":\n",
    "        words = [stemmer.stem(w.upper()).lower() for w in word_tokenize(doc) if w not in stopwords and w not in string.punctuation]\n",
    "    return words\n",
    "        \n",
    "doc = \"!Τρεις. τίγρεις ]\\. και, τρία><τιγράκια'\"\n",
    "ws = preprocess_doc(doc)\n",
    "print(ws)"
   ]
  }
 ],
 "metadata": {
  "kernelspec": {
   "display_name": "base",
   "language": "python",
   "name": "python3"
  },
  "language_info": {
   "codemirror_mode": {
    "name": "ipython",
    "version": 3
   },
   "file_extension": ".py",
   "mimetype": "text/x-python",
   "name": "python",
   "nbconvert_exporter": "python",
   "pygments_lexer": "ipython3",
   "version": "3.8.5 (default, Sep  3 2020, 21:29:08) [MSC v.1916 64 bit (AMD64)]"
  },
  "orig_nbformat": 4,
  "vscode": {
   "interpreter": {
    "hash": "ad2bdc8ecc057115af97d19610ffacc2b4e99fae6737bb82f5d7fb13d2f2c186"
   }
  }
 },
 "nbformat": 4,
 "nbformat_minor": 2
}
