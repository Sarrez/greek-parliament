{
 "cells": [
  {
   "cell_type": "code",
   "execution_count": 1,
   "metadata": {},
   "outputs": [],
   "source": [
    "from nltk.corpus import stopwords\n",
    "from nltk.tokenize import sent_tokenize, word_tokenize\n",
    "import string \n",
    "import unicodedata as ud\n"
   ]
  },
  {
   "cell_type": "code",
   "execution_count": 2,
   "metadata": {},
   "outputs": [],
   "source": [
    "# add encoding=\"utf8\" at line 339\n",
    "from greek_stemmer import GreekStemmer\n",
    "stemmer = GreekStemmer()\n",
    "word = stemmer.stem('ΤΡΕΧΟΥΜΕ')"
   ]
  },
  {
   "cell_type": "code",
   "execution_count": 11,
   "metadata": {},
   "outputs": [
    {
     "name": "stdout",
     "output_type": "stream",
     "text": [
      "['ο', 'η', 'το', 'οι', 'τα', 'του', 'τον', 'το', 'τη', 'την', 'της', 'τους', 'και', 'μα', 'αλλα', 'ως', 'οταν', 'αν', 'στην', 'στους', 'στη', 'στο', 'στα', 'κ']\n"
     ]
    }
   ],
   "source": [
    "# load stopwords\n",
    "with open('stopwords.txt', encoding='utf-8') as file:\n",
    "    stopwords = [line.rstrip() for line in file]\n",
    "print(stopwords)"
   ]
  },
  {
   "cell_type": "code",
   "execution_count": 12,
   "metadata": {},
   "outputs": [
    {
     "name": "stdout",
     "output_type": "stream",
     "text": [
      "['τρ', 'τιγρ', 'τρ', 'τιγρακ']\n"
     ]
    }
   ],
   "source": [
    "def preprocess_doc(doc: str) -> list:\n",
    "    d = {ord('\\N{COMBINING ACUTE ACCENT}'):None}\n",
    "    if doc!=\"\":\n",
    "        words = [stemmer.stem(ud.normalize('NFD',w).upper().translate(d)).lower() for w in word_tokenize(doc) if w not in stopwords and w not in string.punctuation]\n",
    "    return words\n",
    "        \n",
    "doc = \"!Τρεις. τίγρεις ]\\. και, τρία><τιγράκια'\"\n",
    "ws = preprocess_doc(doc)\n",
    "print(ws)"
   ]
  },
  {
   "cell_type": "code",
   "execution_count": 8,
   "metadata": {},
   "outputs": [
    {
     "data": {
      "text/plain": [
       "'Ο πανω οροφος'"
      ]
     },
     "execution_count": 8,
     "metadata": {},
     "output_type": "execute_result"
    }
   ],
   "source": [
    "s=\"Ο πάνω όροφος\"\n",
    "d = {ord('\\N{COMBINING ACUTE ACCENT}'):None}\n",
    "ud.normalize('NFD',s).upper().translate(d)\n"
   ]
  }
 ],
 "metadata": {
  "kernelspec": {
   "display_name": "Python 3.10.7 64-bit",
   "language": "python",
   "name": "python3"
  },
  "language_info": {
   "codemirror_mode": {
    "name": "ipython",
    "version": 3
   },
   "file_extension": ".py",
   "mimetype": "text/x-python",
   "name": "python",
   "nbconvert_exporter": "python",
   "pygments_lexer": "ipython3",
   "version": "3.8.5 (default, Sep  3 2020, 21:29:08) [MSC v.1916 64 bit (AMD64)]"
  },
  "orig_nbformat": 4,
  "vscode": {
   "interpreter": {
    "hash": "369f2c481f4da34e4445cda3fffd2e751bd1c4d706f27375911949ba6bb62e1c"
   }
  }
 },
 "nbformat": 4,
 "nbformat_minor": 2
}
