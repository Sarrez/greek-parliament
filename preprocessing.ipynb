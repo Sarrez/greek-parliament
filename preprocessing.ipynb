{
 "cells": [
  {
   "cell_type": "code",
   "execution_count": 1,
   "metadata": {},
   "outputs": [],
   "source": [
    "from nltk.corpus import stopwords\n",
    "from nltk.tokenize import sent_tokenize, word_tokenize\n",
    "import string \n",
    "import unicodedata as ud\n"
   ]
  },
  {
   "cell_type": "code",
   "execution_count": 2,
   "metadata": {},
   "outputs": [],
   "source": [
    "# add encoding=\"utf8\" at line 339\n",
    "from greek_stemmer import GreekStemmer\n",
    "stemmer = GreekStemmer()\n",
    "word = stemmer.stem('ΤΡΕΧΟΥΜΕ')"
   ]
  },
  {
   "cell_type": "code",
   "execution_count": 3,
   "metadata": {},
   "outputs": [
    {
     "name": "stdout",
     "output_type": "stream",
     "text": [
      "['ο', 'η', 'το', 'οι', 'τα', 'του', 'τον', 'το', 'τη', 'την', 'της', 'τους', 'και', 'μα', 'αλλα', 'ως', 'οταν', 'αν', 'στην', 'στους', 'στη', 'στο', 'στα', 'κ']\n"
     ]
    }
   ],
   "source": [
    "# load stopwords\n",
    "with open('stopwords.txt', encoding='utf-8') as file:\n",
    "    stopwords = [line.rstrip() for line in file]\n",
    "print(stopwords)"
   ]
  },
  {
   "cell_type": "code",
   "execution_count": 4,
   "metadata": {},
   "outputs": [
    {
     "name": "stdout",
     "output_type": "stream",
     "text": [
      "['τρ', 'τιγρ', 'τρ', 'τιγρακ']\n"
     ]
    }
   ],
   "source": [
    "def preprocess_doc(doc: str) -> list:\n",
    "    d = {ord('\\N{COMBINING ACUTE ACCENT}'):None}\n",
    "    if doc!=\"\":\n",
    "        words = [stemmer.stem(ud.normalize('NFD',w).upper().translate(d)).lower() for w in word_tokenize(doc) if w not in stopwords and w not in string.punctuation]\n",
    "    return words\n",
    "        \n",
    "doc = \"!Τρεις. τίγρεις ]\\. και, τρία><τιγράκια'\"\n",
    "ws = preprocess_doc(doc)\n",
    "print(ws)"
   ]
  },
  {
   "cell_type": "code",
   "execution_count": 5,
   "metadata": {},
   "outputs": [
    {
     "data": {
      "text/plain": [
       "'Ο ΠΑΝΩ ΟΡΟΦΟΣ'"
      ]
     },
     "execution_count": 5,
     "metadata": {},
     "output_type": "execute_result"
    }
   ],
   "source": [
    "s=\"Ο πάνω όροφος\"\n",
    "d = {ord('\\N{COMBINING ACUTE ACCENT}'):None}\n",
    "ud.normalize('NFD',s).upper().translate(d)"
   ]
  }
 ],
 "metadata": {
  "kernelspec": {
   "display_name": "Python 3",
   "language": "python",
   "name": "python3"
  },
  "language_info": {
   "codemirror_mode": {
    "name": "ipython",
    "version": 3
   },
   "file_extension": ".py",
   "mimetype": "text/x-python",
   "name": "python",
   "nbconvert_exporter": "python",
   "pygments_lexer": "ipython3",
   "version": "3.7.0"
  },
  "orig_nbformat": 4,
  "vscode": {
   "interpreter": {
    "hash": "dc171fef984f5b79f14e12a568666bc6f1da4d6ba470774f0793d526d68a01d2"
   }
  }
 },
 "nbformat": 4,
 "nbformat_minor": 2
}
