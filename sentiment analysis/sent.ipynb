{
 "cells": [
  {
   "cell_type": "code",
   "execution_count": 1,
   "metadata": {},
   "outputs": [],
   "source": [
    "# CONNECT TO DATABASE\n",
    "import pymongo\n",
    "mongo_client = pymongo.MongoClient(\"mongodb://localhost:27017/\")\n",
    "client = mongo_client[\"GreekParliamentProceedings\"]\n",
    "index = client[\"InvertedIndex\"]\n",
    "database = client[\"Database\"]"
   ]
  },
  {
   "attachments": {},
   "cell_type": "markdown",
   "metadata": {},
   "source": [
    "### Approach 1: Using greek sentiment lexicon (https://github.com/MKLab-ITI/greek-sentiment-lexicon)"
   ]
  },
  {
   "cell_type": "code",
   "execution_count": 2,
   "metadata": {},
   "outputs": [],
   "source": [
    "import spacy\n",
    "import pandas as pd\n",
    "import operator\n",
    "indexes = {}\n",
    "df = pd.read_csv('greek_sentiment_lexicon.tsv',sep='\\t')\n",
    "df = df.fillna('N/A')\n",
    "for index, row in df.iterrows():\n",
    "    df.at[index, \"Term\"] = row[\"Term\"].split(' ')[0]\n",
    "    indexes[df.at[index, \"Term\"]] = index\n",
    "    \n",
    "def main_emotion(speech, id,  indexes):\n",
    "    results = {}\n",
    "    text = speech\n",
    "    subj_scores = {\n",
    "        'OBJ': 0,\n",
    "        'SUBJ-': 0.5,\n",
    "        'SUBJ+': 1,\n",
    "    }\n",
    "\n",
    "    emotion_scores = {\n",
    "        'N/A': 0,\n",
    "        '1.0': 0.2,\n",
    "        '2.0': 0.4,\n",
    "        '3.0': 0.6,\n",
    "        '4.0': 0.8,\n",
    "        '5.0': 1,\n",
    "    }\n",
    "\n",
    "    polarity_scores = {\n",
    "        'N/A': 0,\n",
    "        'BOTH': 0,\n",
    "        'NEG': -1,\n",
    "        'POS': 1\n",
    "    }\n",
    "\n",
    "    nlp = spacy.load(\"el_core_news_sm\")\n",
    "    doc = nlp(text)\n",
    "    matched_tokens = 0\n",
    "    scorelist = [0 for _ in range(7)]\n",
    "    for token in doc:\n",
    "        lemmatized_token = token.lemma_\n",
    "        if (lemmatized_token in indexes):\n",
    "            indx = indexes[lemmatized_token]\n",
    "            pos_flag = False\n",
    "            for col in [\"POS1\", \"POS2\", \"POS3\", \"POS4\"]:\n",
    "                if (token.pos_ == df.at[indx,col]):\n",
    "                    pos_flag = True\n",
    "                    break\n",
    "            if (pos_flag == True):\n",
    "                match_col_index = [int(s) for s in col if s.isdigit()][0]\n",
    "                indexlist = ['Subjectivity', 'Anger', 'Disgust', 'Fear', 'Happiness', 'Sadness', 'Surprise']\n",
    "                for i in range(len(scorelist)):\n",
    "                    if(i==0):\n",
    "                        if(df.at[indx,indexlist[i]+str(match_col_index)]!='N/A'):\n",
    "                            scorelist[i] += subj_scores[df.at[indx,indexlist[i]+str(match_col_index)]]\n",
    "                    else:\n",
    "                        if(df.at[indx, indexlist[i]+str(match_col_index)]!='N/A'):\n",
    "                            scorelist[i] += emotion_scores[str(df.at[indx, indexlist[i]+str(match_col_index)])]\n",
    "                matched_tokens+=1\n",
    "\n",
    "    try:\n",
    "        emotions = {'anger': scorelist[1], 'disgust': scorelist[2], 'fear':scorelist[3], 'happiness':scorelist[4], 'sadness': scorelist[5], 'surprise': scorelist[6]}\n",
    "        emotion = max(emotions.items(), key=operator.itemgetter(1))[0]\n",
    "        if (emotions[emotion] == 0):\n",
    "            results[id] = ['N/A']\n",
    "        else:\n",
    "            results[id] = [emotion, str(emotions[emotion]*100/matched_tokens)]\n",
    "    except:\n",
    "        print('No matched tokens')\n",
    "    return results"
   ]
  },
  {
   "cell_type": "code",
   "execution_count": 3,
   "metadata": {},
   "outputs": [],
   "source": [
    "parties = list(database.distinct(\"political_party\"))\n",
    "governments_per_party = {}\n",
    "for party in parties:\n",
    "    pipeline = [{'$match' : {'political_party':party}},\n",
    "                    {'$group':{'_id':'$government'}}]\n",
    "    governments = list(database.aggregate(pipeline))\n",
    "    governments_per_party[party] = governments"
   ]
  },
  {
   "cell_type": "code",
   "execution_count": 4,
   "metadata": {},
   "outputs": [
    {
     "name": "stdout",
     "output_type": "stream",
     "text": [
      "17\n"
     ]
    }
   ],
   "source": [
    "keys = list(governments_per_party.keys())\n",
    "print(keys.index('λαικος ορθοδοξος συναγερμος'))"
   ]
  },
  {
   "cell_type": "code",
   "execution_count": 5,
   "metadata": {},
   "outputs": [
    {
     "name": "stdout",
     "output_type": "stream",
     "text": [
      "λαικος ορθοδοξος συναγερμος\n"
     ]
    }
   ],
   "source": [
    "print(parties[17])"
   ]
  },
  {
   "cell_type": "code",
   "execution_count": 8,
   "metadata": {},
   "outputs": [
    {
     "name": "stdout",
     "output_type": "stream",
     "text": [
      "ανεξαρτητοι ελληνες - πανος καμμενος\n",
      "     ['παπαδημου λουκα δ.(11/11/2011-17/05/2012)']\n",
      "     ['σαμαρα κ. αντωνιου(21/06/2012-26/01/2015)']\n",
      "ανεξαρτητοι ελληνες εθνικη πατριωτικη δημοκρατικη συμμαχια\n",
      "     ['τσιπρα π. αλεξιου(26/01/2015-27/08/2015)']\n",
      "     ['τσιπρα π. αλεξιου(21/09/2015-08/07/2019)']\n",
      "αντιπολιτευση\n",
      "     ['καραμανλη α. κωνσταντινου(19/09/2007-07/10/2009)']\n",
      "     ['μητσοτακη κωνσταντινου(11/04/1990-13/10/1993)']\n",
      "βουλη\n",
      "     ['σημιτη κωνσταντινου(25/09/1996-13/04/2000)']\n",
      "     ['ζολωτα ξενοφωντα(23/11/1989-11/04/1990)']\n",
      "     ['τζαννετακη τζαννη(02/07/1989-12/10/1989)']\n",
      "     ['μητσοτακη κυριακου(08/07/2019-28/07/2020)']\n",
      "     ['τσιπρα π. αλεξιου(26/01/2015-27/08/2015)']\n",
      "     ['καραμανλη α. κωνσταντινου(10/03/2004-19/09/2007)']\n",
      "     ['παπανδρεου ανδρεα(13/10/1993-22/01/1996)']\n",
      "     ['παπαδημου λουκα δ.(11/11/2011-17/05/2012)']\n",
      "     ['καραμανλη α. κωνσταντινου(19/09/2007-07/10/2009)']\n",
      "     ['τσιπρα π. αλεξιου(21/09/2015-08/07/2019)']\n",
      "     ['σαμαρα κ. αντωνιου(21/06/2012-26/01/2015)']\n",
      "     ['σημιτη κωνσταντινου(13/04/2000-10/03/2004)']\n",
      "     ['μητσοτακη κωνσταντινου(11/04/1990-13/10/1993)']\n",
      "     ['παπανδρεου α. γεωργιου(06/10/2009-11/11/2011)']\n",
      "δημοκρατικη ανανεωση\n",
      "     ['μητσοτακη κωνσταντινου(11/04/1990-13/10/1993)']\n",
      "     ['τζαννετακη τζαννη(02/07/1989-12/10/1989)']\n",
      "δημοκρατικη αριστερα\n",
      "     ['παπαδημου λουκα δ.(11/11/2011-17/05/2012)']\n",
      "     ['σαμαρα κ. αντωνιου(21/06/2012-26/01/2015)']\n",
      "δημοκρατικη συμπαραταξη (πανελληνιο σοσιαλιστικο κινημα - δημοκρατικη αριστερα)\n",
      "     ['τσιπρα π. αλεξιου(21/09/2015-08/07/2019)']\n"
     ]
    }
   ],
   "source": [
    "party_sentiments_per_government = {}\n",
    "counter = 0\n",
    "#for each party\n",
    "for i in range(3, len(keys)):\n",
    "    print(parties[i])\n",
    "    party_sentiments_per_government[parties[i]] = {}\n",
    "    party_sentiments = {}\n",
    "    #for each government period the party is in the parliament\n",
    "    for government in governments_per_party[parties[i]]:\n",
    "        print(\"     \"+government['_id'])\n",
    "        #get speeches of party for that government\n",
    "        speeches = database.find({\"political_party\":parties[i], \"government\":government['_id']}, {\"_id\":1, \"speech\":1})\n",
    "        for speech in speeches:\n",
    "            results = main_emotion(speech['speech'], speech['_id'], indexes)\n",
    "            party_sentiments.update(results)\n",
    "            \n",
    "        #count sentiments of all speeches of a party in the specified government\n",
    "        sent_counter = {'surprise':0, 'happiness':0, 'anger':0, 'disgust':0, 'anger':0, 'fear':0, 'sadness':0}\n",
    "        for key in party_sentiments.keys():\n",
    "            if(party_sentiments[key][0]!='N/A'):\n",
    "                sent_counter[party_sentiments[key][0]] +=1 \n",
    "                \n",
    "        party_sentiments_per_government[parties[i]][government['_id']] = sent_counter\n",
    "        import pickle\n",
    "\n",
    "        with open('sentiments_per_party_per_government1.pickle', 'wb') as handle:\n",
    "            pickle.dump(party_sentiments_per_government, handle, protocol=pickle.HIGHEST_PROTOCOL)"
   ]
  }
 ],
 "metadata": {
  "kernelspec": {
   "display_name": "base",
   "language": "python",
   "name": "python3"
  },
  "language_info": {
   "codemirror_mode": {
    "name": "ipython",
    "version": 3
   },
   "file_extension": ".py",
   "mimetype": "text/x-python",
   "name": "python",
   "nbconvert_exporter": "python",
   "pygments_lexer": "ipython3",
   "version": "3.8.16"
  },
  "orig_nbformat": 4,
  "vscode": {
   "interpreter": {
    "hash": "ad2bdc8ecc057115af97d19610ffacc2b4e99fae6737bb82f5d7fb13d2f2c186"
   }
  }
 },
 "nbformat": 4,
 "nbformat_minor": 2
}
